{
 "cells": [
  {
   "cell_type": "code",
   "execution_count": 1,
   "metadata": {},
   "outputs": [],
   "source": [
    "import warnings \n",
    "warnings.filterwarnings('ignore')\n",
    "import time \n",
    "import pandas as pd \n",
    "import numpy as np \n",
    "from sklearn.model_selection import train_test_split\n",
    "from sklearn import preprocessing\n",
    "from sklearn.ensemble import GradientBoostingRegressor, BaggingRegressor\n",
    "from sklearn.neighbors import KNeighborsClassifier\n",
    "from sklearn.tree import DecisionTreeRegressor\n",
    "import xgboost as xgb\n",
    "import lightgbm as lgb\n",
    "import tensorflow as tf "
   ]
  },
  {
   "cell_type": "code",
   "execution_count": 2,
   "metadata": {},
   "outputs": [],
   "source": [
    "def get_score(model, X, y_true):\n",
    "    y_pred = model.predict(X)\n",
    "    return np.mean(np.abs((y_true - y_pred) / y_true)) * 100\n",
    "\n",
    "def mean_absolute_precision_error(y_pred, y_true):\n",
    "    return np.mean(np.abs((y_true - y_pred) / y_true)) * 100"
   ]
  },
  {
   "cell_type": "markdown",
   "metadata": {},
   "source": [
    "# Loading augmented data"
   ]
  },
  {
   "cell_type": "code",
   "execution_count": 27,
   "metadata": {},
   "outputs": [],
   "source": [
    "test  = pd.read_pickle('dataFrames/test_OneHotEncoding.pkl')\n",
    "train = pd.read_pickle('dataFrames/train_OneHotEncoding.pkl')"
   ]
  },
  {
   "cell_type": "code",
   "execution_count": 28,
   "metadata": {},
   "outputs": [
    {
     "data": {
      "text/plain": [
       "(15000, 92)"
      ]
     },
     "execution_count": 28,
     "metadata": {},
     "output_type": "execute_result"
    }
   ],
   "source": [
    "test.shape"
   ]
  },
  {
   "cell_type": "markdown",
   "metadata": {},
   "source": [
    "# TensorFlow combination  "
   ]
  },
  {
   "cell_type": "code",
   "execution_count": 29,
   "metadata": {},
   "outputs": [],
   "source": [
    "BATCH_SIZE          = 128\n",
    "TRAIN_EPOCHS        = 1200\n",
    "\n",
    "HIDDEN_LAYER_1_SIZE = 512\n",
    "HIDDEN_LAYER_2_SIZE = 512\n",
    "HIDDEN_LAYER_3_SIZE = 16\n",
    "lr                  = 1e-4"
   ]
  },
  {
   "cell_type": "code",
   "execution_count": 30,
   "metadata": {},
   "outputs": [],
   "source": [
    "y_gboost_feat = tf.feature_column.numeric_column(\"y_gboost\")\n",
    "y_xgb_feat    = tf.feature_column.numeric_column(\"y_xgb\")\n",
    "y_bag_feat    = tf.feature_column.numeric_column(\"y_bag\")\n",
    "y_knn_feat    = tf.feature_column.numeric_column(\"y_knn\")\n",
    "y_dec_feat    = tf.feature_column.numeric_column(\"y_dec\")\n",
    "y_lgb_feat    = tf.feature_column.numeric_column(\"y_lgb\")\n",
    "\n",
    "source_lat_feat         = tf.feature_column.numeric_column(\"sourceLatitude\") \n",
    "source_long_feat        = tf.feature_column.numeric_column(\"sourceLongitude\") \n",
    "destin_lat_feat         = tf.feature_column.numeric_column(\"destinationLatitude\") \n",
    "destin_long_feat        = tf.feature_column.numeric_column(\"destinationLongitude\") \n",
    "\n",
    "distance_feat = tf.feature_column.numeric_column(\"distanceKM\")\n",
    "taximin_feat  = tf.feature_column.numeric_column(\"taxiDurationMin\")\n",
    "weight_feat   = tf.feature_column.numeric_column(\"weight\")\n",
    "\n",
    "source_feat   = tf.feature_column.numeric_column(\"source\")\n",
    "destin_feat   = tf.feature_column.numeric_column(\"destination\")\n",
    "\n",
    "feature_columns = {y_gboost_feat, y_xgb_feat, y_bag_feat, y_lgb_feat, y_knn_feat, y_dec_feat,\n",
    "                   source_lat_feat, source_long_feat , destin_lat_feat, destin_long_feat, \n",
    "                   distance_feat, taximin_feat, weight_feat, source_feat, destin_feat}\n",
    "\n",
    "#feature_columns = {y_gboost_feat, y_xgb_feat, y_bag_feat, y_lgb_feat}#, y_knn_feat, y_dec_feat}"
   ]
  },
  {
   "cell_type": "code",
   "execution_count": 31,
   "metadata": {},
   "outputs": [],
   "source": [
    "def make_model(features, labels, mode, params, config):\n",
    "    input_layer = tf.feature_column.input_layer(features=features, \n",
    "                                                feature_columns=feature_columns)\n",
    "    \n",
    "    global_step = tf.train.get_or_create_global_step()\n",
    "\n",
    "    x = tf.layers.dense(inputs=input_layer,\n",
    "                        units=HIDDEN_LAYER_1_SIZE,\n",
    "                        activation=tf.nn.relu,\n",
    "                        name=\"first_fully_connected_layer\")\n",
    "\n",
    "    x = tf.layers.dropout(inputs=x,name=\"first_dropout\")\n",
    "\n",
    "    x = tf.layers.dense(inputs=x,\n",
    "                        units=HIDDEN_LAYER_2_SIZE,\n",
    "                        activation=tf.nn.relu,\n",
    "                        name=\"second_fully_connected_layer\")\n",
    "\n",
    "    x = tf.layers.dense(inputs=x,\n",
    "                        units=HIDDEN_LAYER_3_SIZE,\n",
    "                        activation=tf.nn.relu,\n",
    "                        name=\"third_fully_connected_layer\")\n",
    "\n",
    "    predictions = tf.contrib.layers.fully_connected(inputs=x, num_outputs=1)\n",
    "\n",
    "    if mode == tf.estimator.ModeKeys.PREDICT :\n",
    "        return tf.estimator.EstimatorSpec(mode=mode, predictions=predictions)\n",
    "    elif mode == tf.estimator.ModeKeys.EVAL:\n",
    "        loss  = tf.reduce_mean(tf.abs(tf.divide(predictions-labels,labels))) \n",
    "        return tf.estimator.EstimatorSpec(mode=mode,\n",
    "                                          predictions=predictions,\n",
    "                                          loss=loss)\n",
    "    else:\n",
    "        #loss = tf.losses.absolute_difference(labels=labels,\n",
    "        #                                    predictions=predictions)\n",
    "        loss  = tf.reduce_mean(tf.abs(tf.divide(predictions-labels,labels))) \n",
    "        tf.summary.scalar(\"Loss\", loss)\n",
    "        optimizer = tf.train.AdamOptimizer(learning_rate=params.learning_rate)\n",
    "        train_op = optimizer.minimize(loss, \n",
    "                                      global_step=global_step)\n",
    "        return tf.estimator.EstimatorSpec(mode=mode, \n",
    "                                          predictions=predictions,\n",
    "                                          loss=loss, \n",
    "                                          train_op=train_op)"
   ]
  },
  {
   "cell_type": "code",
   "execution_count": 32,
   "metadata": {},
   "outputs": [],
   "source": [
    "def input_fn(df, pred = False):\n",
    "        \n",
    "    useful_fueatures = [\n",
    "        np.array(df[\"y_gboost\"].values, dtype=np.float32),\n",
    "        np.array(df[\"y_xgb\"].values, dtype=np.float32),\n",
    "        np.array(df[\"y_bag\"].values, dtype=np.float32),\n",
    "        np.array(df[\"y_lgb\"].values, dtype=np.float32),\n",
    "        np.array(df[\"y_knn\"].values, dtype=np.float32),\n",
    "        np.array(df[\"y_dec\"].values, dtype=np.float32),\n",
    "        np.array(df[\"sourceLatitude\"].values, dtype=np.float32),\n",
    "        np.array(df[\"sourceLongitude\"].values, dtype=np.float32),\n",
    "        np.array(df[\"destinationLatitude\"].values, dtype=np.float32),\n",
    "        np.array(df[\"destinationLongitude\"].values, dtype=np.float32),\n",
    "        np.array(df[\"distanceKM\"].values, dtype=np.float32),\n",
    "        np.array(df[\"taxiDurationMin\"].values, dtype=np.float32),\n",
    "        np.array(df[\"weight\"].values, dtype=np.float32),\n",
    "        np.array(df[\"source\"].values, dtype=np.float32),\n",
    "        np.array(df[\"destination\"].values, dtype=np.float32),\n",
    "    ]\n",
    "\n",
    "    if pred: \n",
    "        train_number = 1\n",
    "        batch_number = 1\n",
    "    else:\n",
    "        useful_fueatures.append(np.array(df[\"price\"].values, dtype=np.float32))\n",
    "        train_number = TRAIN_EPOCHS\n",
    "        batch_number = BATCH_SIZE\n",
    "        \n",
    "    A = tf.train.slice_input_producer(\n",
    "        tensor_list=useful_fueatures,\n",
    "        num_epochs=train_number,\n",
    "        shuffle= not pred,\n",
    "        capacity=BATCH_SIZE * 5\n",
    "    )\n",
    "    \n",
    "    y_gboost              = A[0]\n",
    "    y_xgb                 = A[1]\n",
    "    y_bag                 = A[2]\n",
    "    y_lgb                 = A[3]\n",
    "    y_knn                 = A[4]\n",
    "    y_dec                 = A[5]\n",
    "    sourceLatitude        = A[6]\n",
    "    sourceLongitude       = A[7]\n",
    "    destinationLatitude   = A[8]\n",
    "    destinationLongitude  = A[9]\n",
    "    distanceKM            = A[10]\n",
    "    taxiDurationMin       = A[11] \n",
    "    weight                = A[12]\n",
    "    source                = A[13]\n",
    "    destination           = A[14] \n",
    "    \n",
    "    # Created a dict out of sliced input producers\n",
    "    dataset_dict = dict(\n",
    "        y_gboost=y_gboost,\n",
    "        y_xgb=y_xgb,\n",
    "        y_bag=y_bag,\n",
    "        y_lgb=y_lgb,\n",
    "        y_knn=y_knn,\n",
    "        y_dec=y_dec,\n",
    "        sourceLatitude=sourceLatitude,\n",
    "        sourceLongitude=sourceLongitude,\n",
    "        destinationLatitude=destinationLatitude,\n",
    "        destinationLongitude=destinationLongitude, \n",
    "        distanceKM=distanceKM,\n",
    "        taxiDurationMin=taxiDurationMin,\n",
    "        weight=weight,\n",
    "        source=source, \n",
    "        destination=destination\n",
    "    )\n",
    "\n",
    "    if not pred:\n",
    "        dataset_dict['labels'] = A[15]\n",
    "            \n",
    "    batch_dict = tf.train.batch(\n",
    "        dataset_dict,\n",
    "        batch_number,\n",
    "   )\n",
    "\n",
    "    if pred == False:\n",
    "        batch_labels = batch_dict.pop('labels')\n",
    "        return batch_dict, tf.reshape(batch_labels, [-1, 1]) \n",
    "    else:\n",
    "        return batch_dict "
   ]
  },
  {
   "cell_type": "code",
   "execution_count": 33,
   "metadata": {},
   "outputs": [
    {
     "data": {
      "text/html": [
       "<div>\n",
       "<style scoped>\n",
       "    .dataframe tbody tr th:only-of-type {\n",
       "        vertical-align: middle;\n",
       "    }\n",
       "\n",
       "    .dataframe tbody tr th {\n",
       "        vertical-align: top;\n",
       "    }\n",
       "\n",
       "    .dataframe thead th {\n",
       "        text-align: right;\n",
       "    }\n",
       "</style>\n",
       "<table border=\"1\" class=\"dataframe\">\n",
       "  <thead>\n",
       "    <tr style=\"text-align: right;\">\n",
       "      <th></th>\n",
       "      <th>ID</th>\n",
       "      <th>destinationLatitude</th>\n",
       "      <th>destinationLongitude</th>\n",
       "      <th>distanceKM</th>\n",
       "      <th>price</th>\n",
       "      <th>sourceLatitude</th>\n",
       "      <th>sourceLongitude</th>\n",
       "      <th>taxiDurationMin</th>\n",
       "      <th>weight</th>\n",
       "      <th>source</th>\n",
       "      <th>...</th>\n",
       "      <th>vehicleOption_mosaghaf_chadori</th>\n",
       "      <th>vehicleOption_mosaghaf_felezi</th>\n",
       "      <th>vehicleOption_transit_chadori</th>\n",
       "      <th>vehicleOption_yakhchali</th>\n",
       "      <th>y_gboost</th>\n",
       "      <th>y_xgb</th>\n",
       "      <th>y_bag</th>\n",
       "      <th>y_knn</th>\n",
       "      <th>y_dec</th>\n",
       "      <th>y_lgb</th>\n",
       "    </tr>\n",
       "  </thead>\n",
       "  <tbody>\n",
       "    <tr>\n",
       "      <th>40689</th>\n",
       "      <td>10602550191</td>\n",
       "      <td>34.319566</td>\n",
       "      <td>47.078555</td>\n",
       "      <td>1172.0</td>\n",
       "      <td>19000000.0</td>\n",
       "      <td>27.474105</td>\n",
       "      <td>52.603738</td>\n",
       "      <td>859.0</td>\n",
       "      <td>22.00</td>\n",
       "      <td>1445.240621</td>\n",
       "      <td>...</td>\n",
       "      <td>0</td>\n",
       "      <td>0</td>\n",
       "      <td>0</td>\n",
       "      <td>0</td>\n",
       "      <td>2.001315e+07</td>\n",
       "      <td>20377512.00</td>\n",
       "      <td>20693972.0</td>\n",
       "      <td>4290000.0</td>\n",
       "      <td>1.883525e+07</td>\n",
       "      <td>2.214366e+07</td>\n",
       "    </tr>\n",
       "    <tr>\n",
       "      <th>28663</th>\n",
       "      <td>59022077023</td>\n",
       "      <td>35.699056</td>\n",
       "      <td>51.402792</td>\n",
       "      <td>911.0</td>\n",
       "      <td>8000000.0</td>\n",
       "      <td>29.617603</td>\n",
       "      <td>51.652078</td>\n",
       "      <td>661.0</td>\n",
       "      <td>5.35</td>\n",
       "      <td>1529.810740</td>\n",
       "      <td>...</td>\n",
       "      <td>0</td>\n",
       "      <td>0</td>\n",
       "      <td>0</td>\n",
       "      <td>0</td>\n",
       "      <td>5.602654e+06</td>\n",
       "      <td>7494018.50</td>\n",
       "      <td>4657211.0</td>\n",
       "      <td>6000000.0</td>\n",
       "      <td>4.240625e+06</td>\n",
       "      <td>7.224867e+06</td>\n",
       "    </tr>\n",
       "    <tr>\n",
       "      <th>19042</th>\n",
       "      <td>74752147720</td>\n",
       "      <td>27.182853</td>\n",
       "      <td>56.273862</td>\n",
       "      <td>980.0</td>\n",
       "      <td>10338000.0</td>\n",
       "      <td>32.801625</td>\n",
       "      <td>51.689466</td>\n",
       "      <td>667.0</td>\n",
       "      <td>23.61</td>\n",
       "      <td>1695.498480</td>\n",
       "      <td>...</td>\n",
       "      <td>0</td>\n",
       "      <td>0</td>\n",
       "      <td>0</td>\n",
       "      <td>0</td>\n",
       "      <td>9.197673e+06</td>\n",
       "      <td>9348608.00</td>\n",
       "      <td>9439628.0</td>\n",
       "      <td>8305000.0</td>\n",
       "      <td>9.854376e+06</td>\n",
       "      <td>1.029661e+07</td>\n",
       "    </tr>\n",
       "    <tr>\n",
       "      <th>21837</th>\n",
       "      <td>76223312658</td>\n",
       "      <td>32.673139</td>\n",
       "      <td>51.670482</td>\n",
       "      <td>200.0</td>\n",
       "      <td>2320000.0</td>\n",
       "      <td>34.136752</td>\n",
       "      <td>50.566116</td>\n",
       "      <td>142.0</td>\n",
       "      <td>11.30</td>\n",
       "      <td>1726.162961</td>\n",
       "      <td>...</td>\n",
       "      <td>0</td>\n",
       "      <td>0</td>\n",
       "      <td>0</td>\n",
       "      <td>0</td>\n",
       "      <td>2.536652e+06</td>\n",
       "      <td>2578700.75</td>\n",
       "      <td>2509670.0</td>\n",
       "      <td>2320000.0</td>\n",
       "      <td>2.347938e+06</td>\n",
       "      <td>3.293571e+06</td>\n",
       "    </tr>\n",
       "    <tr>\n",
       "      <th>35006</th>\n",
       "      <td>74609642925</td>\n",
       "      <td>35.699332</td>\n",
       "      <td>51.395552</td>\n",
       "      <td>935.0</td>\n",
       "      <td>18000000.0</td>\n",
       "      <td>30.435378</td>\n",
       "      <td>49.111278</td>\n",
       "      <td>659.0</td>\n",
       "      <td>22.00</td>\n",
       "      <td>1494.720310</td>\n",
       "      <td>...</td>\n",
       "      <td>0</td>\n",
       "      <td>0</td>\n",
       "      <td>0</td>\n",
       "      <td>0</td>\n",
       "      <td>1.737643e+07</td>\n",
       "      <td>17874336.00</td>\n",
       "      <td>17712615.0</td>\n",
       "      <td>16650000.0</td>\n",
       "      <td>1.878682e+07</td>\n",
       "      <td>1.692893e+07</td>\n",
       "    </tr>\n",
       "  </tbody>\n",
       "</table>\n",
       "<p>5 rows × 92 columns</p>\n",
       "</div>"
      ],
      "text/plain": [
       "                ID  destinationLatitude  destinationLongitude  distanceKM  \\\n",
       "40689  10602550191            34.319566             47.078555      1172.0   \n",
       "28663  59022077023            35.699056             51.402792       911.0   \n",
       "19042  74752147720            27.182853             56.273862       980.0   \n",
       "21837  76223312658            32.673139             51.670482       200.0   \n",
       "35006  74609642925            35.699332             51.395552       935.0   \n",
       "\n",
       "            price  sourceLatitude  sourceLongitude  taxiDurationMin  weight  \\\n",
       "40689  19000000.0       27.474105        52.603738            859.0   22.00   \n",
       "28663   8000000.0       29.617603        51.652078            661.0    5.35   \n",
       "19042  10338000.0       32.801625        51.689466            667.0   23.61   \n",
       "21837   2320000.0       34.136752        50.566116            142.0   11.30   \n",
       "35006  18000000.0       30.435378        49.111278            659.0   22.00   \n",
       "\n",
       "            source      ...       vehicleOption_mosaghaf_chadori  \\\n",
       "40689  1445.240621      ...                                    0   \n",
       "28663  1529.810740      ...                                    0   \n",
       "19042  1695.498480      ...                                    0   \n",
       "21837  1726.162961      ...                                    0   \n",
       "35006  1494.720310      ...                                    0   \n",
       "\n",
       "       vehicleOption_mosaghaf_felezi  vehicleOption_transit_chadori  \\\n",
       "40689                              0                              0   \n",
       "28663                              0                              0   \n",
       "19042                              0                              0   \n",
       "21837                              0                              0   \n",
       "35006                              0                              0   \n",
       "\n",
       "       vehicleOption_yakhchali      y_gboost        y_xgb       y_bag  \\\n",
       "40689                        0  2.001315e+07  20377512.00  20693972.0   \n",
       "28663                        0  5.602654e+06   7494018.50   4657211.0   \n",
       "19042                        0  9.197673e+06   9348608.00   9439628.0   \n",
       "21837                        0  2.536652e+06   2578700.75   2509670.0   \n",
       "35006                        0  1.737643e+07  17874336.00  17712615.0   \n",
       "\n",
       "            y_knn         y_dec         y_lgb  \n",
       "40689   4290000.0  1.883525e+07  2.214366e+07  \n",
       "28663   6000000.0  4.240625e+06  7.224867e+06  \n",
       "19042   8305000.0  9.854376e+06  1.029661e+07  \n",
       "21837   2320000.0  2.347938e+06  3.293571e+06  \n",
       "35006  16650000.0  1.878682e+07  1.692893e+07  \n",
       "\n",
       "[5 rows x 92 columns]"
      ]
     },
     "execution_count": 33,
     "metadata": {},
     "output_type": "execute_result"
    }
   ],
   "source": [
    "X_train, X_val = train_test_split(train, test_size=0.2, random_state=42)\n",
    "X_train.head()"
   ]
  },
  {
   "cell_type": "code",
   "execution_count": 34,
   "metadata": {},
   "outputs": [
    {
     "name": "stdout",
     "output_type": "stream",
     "text": [
      "INFO:tensorflow:Using default config.\n",
      "WARNING:tensorflow:Using temporary folder as model directory: /var/folders/hy/j_c72d1x72g_rr58tgrlh3b40000gn/T/tmp_tz0xx6z\n",
      "INFO:tensorflow:Using config: {'_model_dir': '/var/folders/hy/j_c72d1x72g_rr58tgrlh3b40000gn/T/tmp_tz0xx6z', '_tf_random_seed': None, '_save_summary_steps': 100, '_save_checkpoints_steps': None, '_save_checkpoints_secs': 600, '_session_config': None, '_keep_checkpoint_max': 5, '_keep_checkpoint_every_n_hours': 10000, '_log_step_count_steps': 100, '_train_distribute': None, '_service': None, '_cluster_spec': <tensorflow.python.training.server_lib.ClusterSpec object at 0x1c21756780>, '_task_type': 'worker', '_task_id': 0, '_global_id_in_cluster': 0, '_master': '', '_evaluation_master': '', '_is_chief': True, '_num_ps_replicas': 0, '_num_worker_replicas': 1}\n",
      "INFO:tensorflow:Calling model_fn.\n",
      "INFO:tensorflow:Done calling model_fn.\n",
      "INFO:tensorflow:Create CheckpointSaverHook.\n",
      "INFO:tensorflow:Graph was finalized.\n",
      "INFO:tensorflow:Running local_init_op.\n",
      "INFO:tensorflow:Done running local_init_op.\n",
      "INFO:tensorflow:Saving checkpoints for 1 into /var/folders/hy/j_c72d1x72g_rr58tgrlh3b40000gn/T/tmp_tz0xx6z/model.ckpt.\n",
      "INFO:tensorflow:loss = 0.99994445, step = 1\n",
      "INFO:tensorflow:global_step/sec: 51.573\n",
      "INFO:tensorflow:loss = 0.17876592, step = 101 (1.940 sec)\n",
      "INFO:tensorflow:global_step/sec: 53.2676\n",
      "INFO:tensorflow:loss = 0.17890899, step = 201 (1.877 sec)\n",
      "INFO:tensorflow:global_step/sec: 54.0399\n",
      "INFO:tensorflow:loss = 0.14772604, step = 301 (1.851 sec)\n",
      "INFO:tensorflow:global_step/sec: 54.1696\n",
      "INFO:tensorflow:loss = 0.15724933, step = 401 (1.846 sec)\n",
      "INFO:tensorflow:global_step/sec: 54.0395\n",
      "INFO:tensorflow:loss = 0.1506592, step = 501 (1.850 sec)\n",
      "INFO:tensorflow:global_step/sec: 51.9764\n",
      "INFO:tensorflow:loss = 0.15622649, step = 601 (1.924 sec)\n",
      "INFO:tensorflow:global_step/sec: 52.8347\n",
      "INFO:tensorflow:loss = 0.16146243, step = 701 (1.893 sec)\n",
      "INFO:tensorflow:global_step/sec: 53.9106\n",
      "INFO:tensorflow:loss = 0.1838794, step = 801 (1.855 sec)\n",
      "INFO:tensorflow:global_step/sec: 53.6642\n",
      "INFO:tensorflow:loss = 0.15998012, step = 901 (1.863 sec)\n",
      "INFO:tensorflow:global_step/sec: 53.8541\n",
      "INFO:tensorflow:loss = 0.1663041, step = 1001 (1.857 sec)\n",
      "INFO:tensorflow:global_step/sec: 53.887\n",
      "INFO:tensorflow:loss = 0.15571721, step = 1101 (1.856 sec)\n",
      "INFO:tensorflow:Saving checkpoints for 1200 into /var/folders/hy/j_c72d1x72g_rr58tgrlh3b40000gn/T/tmp_tz0xx6z/model.ckpt.\n",
      "INFO:tensorflow:Loss for final step: 0.18504435.\n"
     ]
    },
    {
     "data": {
      "text/plain": [
       "<tensorflow.python.estimator.estimator.Estimator at 0x1c21756b70>"
      ]
     },
     "execution_count": 34,
     "metadata": {},
     "output_type": "execute_result"
    }
   ],
   "source": [
    "hparams = tf.contrib.training.HParams(learning_rate=lr)\n",
    "estimator_val = tf.estimator.Estimator(model_fn=make_model, params=hparams)\n",
    "estimator_val.train(input_fn=lambda: input_fn(X_train), steps=TRAIN_EPOCHS)"
   ]
  },
  {
   "cell_type": "code",
   "execution_count": 35,
   "metadata": {},
   "outputs": [
    {
     "name": "stdout",
     "output_type": "stream",
     "text": [
      "INFO:tensorflow:Calling model_fn.\n",
      "INFO:tensorflow:Done calling model_fn.\n",
      "INFO:tensorflow:Graph was finalized.\n",
      "INFO:tensorflow:Restoring parameters from /var/folders/hy/j_c72d1x72g_rr58tgrlh3b40000gn/T/tmp_tz0xx6z/model.ckpt-1200\n",
      "INFO:tensorflow:Running local_init_op.\n",
      "INFO:tensorflow:Done running local_init_op.\n"
     ]
    },
    {
     "data": {
      "text/plain": [
       "16.557972484389982"
      ]
     },
     "execution_count": 35,
     "metadata": {},
     "output_type": "execute_result"
    }
   ],
   "source": [
    "predictions_val   = list(estimator_val.predict(input_fn = lambda: input_fn(X_val, pred=True)))\n",
    "y_preds_val       = [int(x) for x in predictions_val]\n",
    "mean_absolute_precision_error(y_preds_val, X_val.price)"
   ]
  },
  {
   "cell_type": "code",
   "execution_count": 37,
   "metadata": {},
   "outputs": [
    {
     "name": "stdout",
     "output_type": "stream",
     "text": [
      "INFO:tensorflow:Using default config.\n",
      "WARNING:tensorflow:Using temporary folder as model directory: /var/folders/hy/j_c72d1x72g_rr58tgrlh3b40000gn/T/tmpy0hrxhy8\n",
      "INFO:tensorflow:Using config: {'_model_dir': '/var/folders/hy/j_c72d1x72g_rr58tgrlh3b40000gn/T/tmpy0hrxhy8', '_tf_random_seed': None, '_save_summary_steps': 100, '_save_checkpoints_steps': None, '_save_checkpoints_secs': 600, '_session_config': None, '_keep_checkpoint_max': 5, '_keep_checkpoint_every_n_hours': 10000, '_log_step_count_steps': 100, '_train_distribute': None, '_service': None, '_cluster_spec': <tensorflow.python.training.server_lib.ClusterSpec object at 0x1a163892b0>, '_task_type': 'worker', '_task_id': 0, '_global_id_in_cluster': 0, '_master': '', '_evaluation_master': '', '_is_chief': True, '_num_ps_replicas': 0, '_num_worker_replicas': 1}\n",
      "INFO:tensorflow:Calling model_fn.\n",
      "INFO:tensorflow:Done calling model_fn.\n",
      "INFO:tensorflow:Create CheckpointSaverHook.\n",
      "INFO:tensorflow:Graph was finalized.\n",
      "INFO:tensorflow:Running local_init_op.\n",
      "INFO:tensorflow:Done running local_init_op.\n",
      "INFO:tensorflow:Saving checkpoints for 1 into /var/folders/hy/j_c72d1x72g_rr58tgrlh3b40000gn/T/tmpy0hrxhy8/model.ckpt.\n",
      "INFO:tensorflow:loss = 0.9485819, step = 1\n",
      "INFO:tensorflow:global_step/sec: 51.2729\n",
      "INFO:tensorflow:loss = 0.19200398, step = 101 (1.951 sec)\n",
      "INFO:tensorflow:global_step/sec: 53.2415\n",
      "INFO:tensorflow:loss = 0.15458381, step = 201 (1.878 sec)\n",
      "INFO:tensorflow:global_step/sec: 51.8404\n",
      "INFO:tensorflow:loss = 0.14960057, step = 301 (1.929 sec)\n",
      "INFO:tensorflow:global_step/sec: 53.1482\n",
      "INFO:tensorflow:loss = 0.166428, step = 401 (1.882 sec)\n",
      "INFO:tensorflow:global_step/sec: 53.33\n",
      "INFO:tensorflow:loss = 0.14545622, step = 501 (1.875 sec)\n",
      "INFO:tensorflow:global_step/sec: 53.2666\n",
      "INFO:tensorflow:loss = 0.17744482, step = 601 (1.877 sec)\n",
      "INFO:tensorflow:global_step/sec: 53.3339\n",
      "INFO:tensorflow:loss = 0.17979535, step = 701 (1.875 sec)\n",
      "INFO:tensorflow:global_step/sec: 53.2007\n",
      "INFO:tensorflow:loss = 0.14536968, step = 801 (1.880 sec)\n",
      "INFO:tensorflow:global_step/sec: 52.2303\n",
      "INFO:tensorflow:loss = 0.18743116, step = 901 (1.915 sec)\n",
      "INFO:tensorflow:global_step/sec: 52.9082\n",
      "INFO:tensorflow:loss = 0.15485625, step = 1001 (1.890 sec)\n",
      "INFO:tensorflow:global_step/sec: 53.4452\n",
      "INFO:tensorflow:loss = 0.1569815, step = 1101 (1.871 sec)\n",
      "INFO:tensorflow:Saving checkpoints for 1200 into /var/folders/hy/j_c72d1x72g_rr58tgrlh3b40000gn/T/tmpy0hrxhy8/model.ckpt.\n",
      "INFO:tensorflow:Loss for final step: 0.16339946.\n"
     ]
    },
    {
     "data": {
      "text/plain": [
       "<tensorflow.python.estimator.estimator.Estimator at 0x1c1ff2dfd0>"
      ]
     },
     "execution_count": 37,
     "metadata": {},
     "output_type": "execute_result"
    }
   ],
   "source": [
    "estimator = tf.estimator.Estimator(model_fn=make_model, params=hparams)\n",
    "estimator.train(input_fn=lambda: input_fn(train), steps=TRAIN_EPOCHS)"
   ]
  },
  {
   "cell_type": "code",
   "execution_count": 38,
   "metadata": {},
   "outputs": [
    {
     "name": "stdout",
     "output_type": "stream",
     "text": [
      "INFO:tensorflow:Calling model_fn.\n",
      "INFO:tensorflow:Done calling model_fn.\n",
      "INFO:tensorflow:Graph was finalized.\n",
      "INFO:tensorflow:Restoring parameters from /var/folders/hy/j_c72d1x72g_rr58tgrlh3b40000gn/T/tmpy0hrxhy8/model.ckpt-1200\n",
      "INFO:tensorflow:Running local_init_op.\n",
      "INFO:tensorflow:Done running local_init_op.\n"
     ]
    }
   ],
   "source": [
    "predictions   = list(estimator.predict(input_fn = lambda: input_fn(test, pred=True)))\n",
    "y_preds_test   = [int(x) for x in predictions]"
   ]
  },
  {
   "cell_type": "markdown",
   "metadata": {},
   "source": [
    "# Save to File"
   ]
  },
  {
   "cell_type": "code",
   "execution_count": 39,
   "metadata": {},
   "outputs": [],
   "source": [
    "filename = \"/Users/mohsenkiskani/Downloads/Ubaar/submissions/submission35.csv\"\n",
    "with open(filename,\"w+\") as outputfile:\n",
    "    outputfile.write(\"ID,price\\n\")\n",
    "    for i in range(len(y_preds_test)):\n",
    "        outputfile.write(str(test.ID[i])+\",\"+str(int(np.ceil(y_preds_test[i])))+\"\\n\")"
   ]
  },
  {
   "cell_type": "markdown",
   "metadata": {},
   "source": [
    "##### Submission 19 with loss of 15.9 "
   ]
  },
  {
   "cell_type": "code",
   "execution_count": null,
   "metadata": {},
   "outputs": [],
   "source": []
  },
  {
   "cell_type": "code",
   "execution_count": null,
   "metadata": {},
   "outputs": [],
   "source": []
  }
 ],
 "metadata": {
  "kernelspec": {
   "display_name": "Python 3",
   "language": "python",
   "name": "python3"
  },
  "language_info": {
   "codemirror_mode": {
    "name": "ipython",
    "version": 3
   },
   "file_extension": ".py",
   "mimetype": "text/x-python",
   "name": "python",
   "nbconvert_exporter": "python",
   "pygments_lexer": "ipython3",
   "version": "3.6.4"
  }
 },
 "nbformat": 4,
 "nbformat_minor": 2
}
