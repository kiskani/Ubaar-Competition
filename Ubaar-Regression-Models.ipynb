{
 "cells": [
  {
   "cell_type": "code",
   "execution_count": 1,
   "metadata": {},
   "outputs": [],
   "source": [
    "import warnings \n",
    "warnings.filterwarnings('ignore')\n",
    "import time \n",
    "import pandas as pd \n",
    "import numpy as np \n",
    "from sklearn.model_selection import train_test_split\n",
    "from sklearn import preprocessing\n",
    "\n",
    "import matplotlib.pyplot as plt\n",
    "from mpl_toolkits.mplot3d import Axes3D\n",
    "import seaborn as sns\n",
    "from scipy import stats\n",
    "from scipy.stats import norm, skew\n",
    "#from scipy.special import boxcox1p\n",
    "from sklearn import linear_model\n",
    "from sklearn.linear_model import ElasticNet, Lasso, BayesianRidge, LassoLarsIC, Ridge, BayesianRidge\n",
    "from sklearn.ensemble import RandomForestRegressor, GradientBoostingRegressor, AdaBoostRegressor, BaggingRegressor \n",
    "from sklearn.kernel_ridge import KernelRidge\n",
    "from sklearn.pipeline import make_pipeline\n",
    "from sklearn.preprocessing import RobustScaler\n",
    "from sklearn.base import BaseEstimator, TransformerMixin, RegressorMixin, clone\n",
    "from sklearn.model_selection import KFold, GridSearchCV, train_test_split\n",
    "#from sklearn.metrics import mean_squared_error\n",
    "from sklearn.tree import DecisionTreeRegressor\n",
    "from sklearn.neighbors import KNeighborsClassifier, KNeighborsRegressor\n",
    "\n",
    "import itertools\n",
    "import xgboost as xgb\n",
    "from sklearn.svm import SVR\n",
    "import lightgbm as lgb\n",
    "from mlxtend.regressor import StackingRegressor"
   ]
  },
  {
   "cell_type": "code",
   "execution_count": 2,
   "metadata": {},
   "outputs": [],
   "source": [
    "#def normalize_column(col):\n",
    "#    return (col - np.mean(col)) / np.std(col)\n",
    "\n",
    "#def scale_minmax(col):\n",
    "#    return (col-col.min())/(col.max()-col.min())\n",
    "\n",
    "def get_score(model, X, y_true):\n",
    "    y_pred = model.predict(X)\n",
    "    return np.mean(np.abs((y_true - y_pred) / y_true)) * 100\n",
    "\n",
    "def mean_absolute_precision_error(y_pred, y_true):\n",
    "    return np.mean(np.abs((y_true - y_pred) / y_true)) * 100"
   ]
  },
  {
   "cell_type": "markdown",
   "metadata": {},
   "source": [
    "# Data gathering "
   ]
  },
  {
   "cell_type": "code",
   "execution_count": 3,
   "metadata": {},
   "outputs": [
    {
     "data": {
      "text/html": [
       "<div>\n",
       "<style scoped>\n",
       "    .dataframe tbody tr th:only-of-type {\n",
       "        vertical-align: middle;\n",
       "    }\n",
       "\n",
       "    .dataframe tbody tr th {\n",
       "        vertical-align: top;\n",
       "    }\n",
       "\n",
       "    .dataframe thead th {\n",
       "        text-align: right;\n",
       "    }\n",
       "</style>\n",
       "<table border=\"1\" class=\"dataframe\">\n",
       "  <thead>\n",
       "    <tr style=\"text-align: right;\">\n",
       "      <th></th>\n",
       "      <th>destinationLatitude</th>\n",
       "      <th>destinationLongitude</th>\n",
       "      <th>distanceKM</th>\n",
       "      <th>sourceLatitude</th>\n",
       "      <th>sourceLongitude</th>\n",
       "      <th>taxiDurationMin</th>\n",
       "      <th>weight</th>\n",
       "      <th>date_ids</th>\n",
       "      <th>SourceState_ids</th>\n",
       "      <th>destinationState_ids</th>\n",
       "      <th>vehicleType_ids</th>\n",
       "      <th>vehicleOption_ids</th>\n",
       "      <th>source_tuple_ids</th>\n",
       "      <th>destination_tuple_ids</th>\n",
       "      <th>source</th>\n",
       "      <th>destination</th>\n",
       "    </tr>\n",
       "  </thead>\n",
       "  <tbody>\n",
       "    <tr>\n",
       "      <th>39085</th>\n",
       "      <td>36.473089</td>\n",
       "      <td>52.349822</td>\n",
       "      <td>184.0</td>\n",
       "      <td>35.700109</td>\n",
       "      <td>51.399743</td>\n",
       "      <td>199.0</td>\n",
       "      <td>21.00</td>\n",
       "      <td>124</td>\n",
       "      <td>7</td>\n",
       "      <td>19</td>\n",
       "      <td>3</td>\n",
       "      <td>2</td>\n",
       "      <td>1410</td>\n",
       "      <td>1774</td>\n",
       "      <td>1834.976428</td>\n",
       "      <td>1909.359717</td>\n",
       "    </tr>\n",
       "    <tr>\n",
       "      <th>30892</th>\n",
       "      <td>35.704176</td>\n",
       "      <td>51.400280</td>\n",
       "      <td>331.0</td>\n",
       "      <td>37.275731</td>\n",
       "      <td>49.584392</td>\n",
       "      <td>254.0</td>\n",
       "      <td>1.67</td>\n",
       "      <td>118</td>\n",
       "      <td>29</td>\n",
       "      <td>7</td>\n",
       "      <td>1</td>\n",
       "      <td>5</td>\n",
       "      <td>1926</td>\n",
       "      <td>1515</td>\n",
       "      <td>1848.294458</td>\n",
       "      <td>1835.204644</td>\n",
       "    </tr>\n",
       "    <tr>\n",
       "      <th>45277</th>\n",
       "      <td>35.699924</td>\n",
       "      <td>51.396715</td>\n",
       "      <td>447.0</td>\n",
       "      <td>32.665899</td>\n",
       "      <td>51.663805</td>\n",
       "      <td>285.0</td>\n",
       "      <td>19.00</td>\n",
       "      <td>83</td>\n",
       "      <td>3</td>\n",
       "      <td>7</td>\n",
       "      <td>3</td>\n",
       "      <td>7</td>\n",
       "      <td>801</td>\n",
       "      <td>1515</td>\n",
       "      <td>1687.644636</td>\n",
       "      <td>1834.858819</td>\n",
       "    </tr>\n",
       "    <tr>\n",
       "      <th>16398</th>\n",
       "      <td>30.199563</td>\n",
       "      <td>53.182966</td>\n",
       "      <td>809.0</td>\n",
       "      <td>35.699078</td>\n",
       "      <td>51.401589</td>\n",
       "      <td>525.0</td>\n",
       "      <td>4.00</td>\n",
       "      <td>151</td>\n",
       "      <td>7</td>\n",
       "      <td>15</td>\n",
       "      <td>1</td>\n",
       "      <td>5</td>\n",
       "      <td>1410</td>\n",
       "      <td>463</td>\n",
       "      <td>1834.989335</td>\n",
       "      <td>1606.102332</td>\n",
       "    </tr>\n",
       "    <tr>\n",
       "      <th>13653</th>\n",
       "      <td>27.180941</td>\n",
       "      <td>56.277756</td>\n",
       "      <td>1144.0</td>\n",
       "      <td>34.643252</td>\n",
       "      <td>50.877469</td>\n",
       "      <td>750.0</td>\n",
       "      <td>2.00</td>\n",
       "      <td>85</td>\n",
       "      <td>17</td>\n",
       "      <td>21</td>\n",
       "      <td>1</td>\n",
       "      <td>5</td>\n",
       "      <td>1176</td>\n",
       "      <td>72</td>\n",
       "      <td>1762.560980</td>\n",
       "      <td>1529.682365</td>\n",
       "    </tr>\n",
       "  </tbody>\n",
       "</table>\n",
       "</div>"
      ],
      "text/plain": [
       "       destinationLatitude  destinationLongitude  distanceKM  sourceLatitude  \\\n",
       "39085            36.473089             52.349822       184.0       35.700109   \n",
       "30892            35.704176             51.400280       331.0       37.275731   \n",
       "45277            35.699924             51.396715       447.0       32.665899   \n",
       "16398            30.199563             53.182966       809.0       35.699078   \n",
       "13653            27.180941             56.277756      1144.0       34.643252   \n",
       "\n",
       "       sourceLongitude  taxiDurationMin  weight  date_ids  SourceState_ids  \\\n",
       "39085        51.399743            199.0   21.00       124                7   \n",
       "30892        49.584392            254.0    1.67       118               29   \n",
       "45277        51.663805            285.0   19.00        83                3   \n",
       "16398        51.401589            525.0    4.00       151                7   \n",
       "13653        50.877469            750.0    2.00        85               17   \n",
       "\n",
       "       destinationState_ids  vehicleType_ids  vehicleOption_ids  \\\n",
       "39085                    19                3                  2   \n",
       "30892                     7                1                  5   \n",
       "45277                     7                3                  7   \n",
       "16398                    15                1                  5   \n",
       "13653                    21                1                  5   \n",
       "\n",
       "       source_tuple_ids  destination_tuple_ids       source  destination  \n",
       "39085              1410                   1774  1834.976428  1909.359717  \n",
       "30892              1926                   1515  1848.294458  1835.204644  \n",
       "45277               801                   1515  1687.644636  1834.858819  \n",
       "16398              1410                    463  1834.989335  1606.102332  \n",
       "13653              1176                     72  1762.560980  1529.682365  "
      ]
     },
     "execution_count": 3,
     "metadata": {},
     "output_type": "execute_result"
    }
   ],
   "source": [
    "data      = pd.read_csv('/Users/mohsenkiskani/.kaggle/competitions/ubaar-competition/train.csv')\n",
    "test_data = pd.read_csv('/Users/mohsenkiskani/.kaggle/competitions/ubaar-competition/test.csv')\n",
    "\n",
    "data      = data.dropna(axis = 0)\n",
    "\n",
    "test_data.loc[12577, 'distanceKM']      = 52\n",
    "test_data.loc[12577, 'taxiDurationMin'] = 50\n",
    "test_data.loc[13853, 'distanceKM']      = 500\n",
    "test_data.loc[13853, 'taxiDurationMin'] = 380\n",
    "\n",
    "all_data = pd.concat((data, test_data)) \n",
    "\n",
    "min_price = min(all_data['price'])\n",
    "\n",
    "ntrain = data.shape[0]\n",
    "ntest  = test_data.shape[0]\n",
    "\n",
    "BUCKET_LATI = 1000\n",
    "BUCKET_LONG = 1000\n",
    "\n",
    "min_source_lat  = min(all_data['sourceLatitude'])\n",
    "min_destin_lat  = min(all_data['destinationLatitude'])\n",
    "min_lat         = min(min_destin_lat, min_source_lat)\n",
    "\n",
    "min_source_long = min(all_data['sourceLongitude'])\n",
    "min_destin_long = min(all_data['destinationLongitude'])\n",
    "min_long        = min(min_destin_long, min_source_long)\n",
    "\n",
    "max_source_lat  = max(all_data['sourceLatitude'])\n",
    "max_destin_lat  = max(all_data['destinationLatitude'])\n",
    "max_lat         = max(max_destin_lat, max_source_lat)\n",
    "\n",
    "max_source_long = max(all_data['sourceLongitude'])\n",
    "max_destin_long = max(all_data['destinationLongitude'])\n",
    "max_long        = max(max_destin_long, max_source_long)\n",
    "\n",
    "d_lati = (max_lat - min_lat)/BUCKET_LATI\n",
    "d_long = (max_long - min_long)/BUCKET_LONG\n",
    "\n",
    "destin_lati_bucket = (all_data['destinationLatitude']  // d_lati).as_matrix().astype(int)\n",
    "destin_long_bucket = (all_data['destinationLongitude'] // d_long).as_matrix().astype(int)\n",
    "\n",
    "all_data['destination_tuple'] = tuple(zip(destin_lati_bucket,destin_long_bucket))\n",
    "\n",
    "source_lati_bucket = (all_data['sourceLatitude']  // d_lati).as_matrix().astype(int)\n",
    "source_long_bucket = (all_data['sourceLongitude'] // d_long).as_matrix().astype(int)\n",
    "\n",
    "all_data['source_tuple'] = tuple(zip(source_lati_bucket,source_long_bucket))\n",
    "\n",
    "\n",
    "categorical_vars = ['date', 'SourceState', 'destinationState', 'vehicleType', \n",
    "                    'vehicleOption', 'source_tuple', 'destination_tuple']\n",
    "\n",
    "all_data = all_data.copy()\n",
    "categorical_var_encoders = {}\n",
    "for var in categorical_vars:\n",
    "    le = preprocessing.LabelEncoder().fit(all_data[var])\n",
    "    all_data[var + '_ids']  = le.transform(all_data[var])\n",
    "    all_data[var + '_ids']  = all_data[var + '_ids'].astype('int32')\n",
    "    all_data.pop(var)\n",
    "    categorical_var_encoders[var] = le\n",
    "\n",
    "all_data['source']           = all_data['sourceLatitude']*all_data['sourceLongitude']\n",
    "all_data['destination']      = all_data['destinationLatitude']*all_data['destinationLongitude']\n",
    "\n",
    "#categorical_var_encoders['SourceState'].classes_\n",
    "    \n",
    "train    = all_data[:ntrain]\n",
    "test     = all_data[ntrain:]\n",
    "\n",
    "X = train.drop(['ID','price'],axis=1)\n",
    "y = train.price\n",
    "\n",
    "X_train, X_val, y_train, y_val = train_test_split(X, y, test_size=0.2, random_state=42)\n",
    "X_train.head()"
   ]
  },
  {
   "cell_type": "markdown",
   "metadata": {},
   "source": [
    "# Initial Modelling"
   ]
  },
  {
   "cell_type": "code",
   "execution_count": null,
   "metadata": {},
   "outputs": [],
   "source": [
    "LGBF = lgb.LGBMRegressor(objective='regression',num_leaves=15,\n",
    "                          learning_rate=0.05, n_estimators=15000,\n",
    "                          max_bin = 1000, bagging_fraction = 0.6,\n",
    "                          bagging_freq = 5, feature_fraction = 0.25,\n",
    "                          feature_fraction_seed=9, bagging_seed=20,\n",
    "                          min_data_in_leaf = 11, min_sum_hessian_in_leaf = 11)\n",
    "\n",
    "GBSTF = GradientBoostingRegressor(n_estimators=3200, learning_rate=0.05,\n",
    "                                  max_depth=10, max_features='sqrt',\n",
    "                                  min_samples_leaf=15, min_samples_split=10, \n",
    "                                  loss='huber', random_state =5)\n",
    "\n",
    "XGBF = xgb.XGBRegressor(colsample_bytree=0.4603, gamma=0.0468, \n",
    "                        learning_rate=0.05, max_depth=10, \n",
    "                        min_child_weight=1.7817, n_estimators=2200,\n",
    "                        reg_alpha=0.4640, reg_lambda=0.8571,\n",
    "                        subsample=0.5213, silent=1,\n",
    "                        random_state =5 , nthread = -1)\n",
    "\n",
    "BAGF = BaggingRegressor(n_estimators=100, max_samples=1.0, max_features=1.0, random_state=5, verbose=1)\n",
    "DECF  = DecisionTreeRegressor(max_depth=15)\n",
    "RFSTF = RandomForestRegressor(n_estimators=20, criterion='mae', \n",
    "                              max_depth=4, max_features='sqrt',\n",
    "                              min_samples_leaf=5, min_samples_split =3, random_state = 42)\n",
    "\n",
    "KNNF = KNeighborsClassifier(2)\n",
    "LASSF = Lasso(fit_intercept = True)\n",
    "ABSTF = AdaBoostRegressor(n_estimators=1000, learning_rate=0.05, loss='linear', random_state=5)\n",
    "\n",
    "SVRF = SVR()\n",
    "RDGF = Ridge()\n",
    "ENTF = make_pipeline(RobustScaler(), ElasticNet(alpha=0.8, l1_ratio=.9, random_state=3))\n",
    "\n",
    "models = { \"Gboost\": GBSTF, \"xgb\": XGBF, \"bagging\": BAGF, \"lgbm\": LGBF, \"dec_tree\": DECF, \"Random_forest\": RFSTF,\n",
    "          \"knn\": KNNF, \"elasticNet\": ENTF, \"ridge\": RDGF, \"lasso\": LASSF, \"AdaBoost\": ABSTF, \"SVR\": SVRF}\n",
    "\n",
    "for model_name in models:\n",
    "    model = models[model_name]\n",
    "    start_time = time.time()\n",
    "    model.fit(X_train, y_train)\n",
    "    train_cols = X_train.columns.tolist()\n",
    "    X_val['y_' + model_name] = model.predict(X_val[train_cols])\n",
    "    #stackedset = pd.concat([stackedset, pd.DataFrame(y_pred, columns=[model_name])], axis=1)\n",
    "    score = mean_absolute_precision_error(X_val['y_' + model_name], y_val)\n",
    "    print(model_name, '%.2f' % float((time.time() - start_time)/60 ) +\" mins, score= \", '%.2f' % score)\n",
    "\n",
    "X_val.to_pickle('dataFrames/X_val.pkl')\n",
    "# Gboost,        4.35 mins, score=  17.21\n",
    "# xgb,           1.99 mins, score=  18.17\n",
    "# bagging,       0.67 mins, score=  19.14\n",
    "# lgbm,          1.07 mins, score=  20.03\n",
    "# dec_tree,      0.01 mins, score=  23.41\n",
    "# Random_forest, 4.58 mins, score=  30.52\n",
    "# knn,           0.00 mins, score=  32.04\n",
    "# elasticNet,    0.00 mins, score=  38.47 \n",
    "# ridge,         0.00 mins, score=  40.90\n",
    "# lasso,         0.02 mins, score=  40.91 \n",
    "# AdaBoost,      0.77 mins, score=  57.33 \n",
    "# SVR,           0.63 mins, score=  72.84 \n",
    "# KernelRidge and LinearRegression() take more than 1 hour to run! Don't Run them. "
   ]
  },
  {
   "cell_type": "code",
   "execution_count": null,
   "metadata": {},
   "outputs": [],
   "source": [
    "ridge = Ridge()\n",
    "\n",
    "clf_ridge = GridSearchCV(ridge, {'alpha': [1e-3,1e-2,1e-1,1,1e1,1e2,1e3]}, verbose=1)\n",
    "\n",
    "clf_ridge.fit(X_train,y_train)\n",
    "print(clf_ridge.best_params_)\n",
    "get_score(clf_ridge,X_val,y_val)\n",
    "# 40.78025846231952"
   ]
  },
  {
   "cell_type": "code",
   "execution_count": null,
   "metadata": {},
   "outputs": [],
   "source": [
    "lasso = Lasso()\n",
    "\n",
    "clf_lasso = GridSearchCV(lasso, {'alpha': [1e-3,1e-2,1e-1,1,1e1,1e2,1e3]}, verbose=1)\n",
    "clf_lasso.fit(X_train,y_train)\n",
    "print(clf_lasso.best_params_)\n",
    "get_score(clf_lasso,X_val,y_val)\n",
    "# {'alpha': 100.0}\n",
    "# 40.78453998923231"
   ]
  },
  {
   "cell_type": "code",
   "execution_count": null,
   "metadata": {},
   "outputs": [],
   "source": [
    "reg_lassolars  =  linear_model.LassoLars(alpha = 2)\n",
    "reg_lassolars.fit(X_train, y_train)\n",
    "get_score(reg_lassolars,X_val,y_val)\n",
    "# 40.775030093207896"
   ]
  },
  {
   "cell_type": "code",
   "execution_count": null,
   "metadata": {},
   "outputs": [],
   "source": [
    "reg_dec_tree = DecisionTreeRegressor(max_depth=10, criterion = 'mae', max_features='sqrt',\n",
    "                                     random_state=5, min_samples_leaf = 12, min_samples_split = 2)\n",
    "reg_dec_tree.fit(X_train, y_train)\n",
    "get_score(reg_dec_tree,X_val,y_val)\n",
    "# 26.002284134401865"
   ]
  },
  {
   "cell_type": "code",
   "execution_count": null,
   "metadata": {},
   "outputs": [],
   "source": [
    "#dec_tree = DecisionTreeRegressor()\n",
    "\n",
    "#clf_dec_tree = GridSearchCV(dec_tree, \n",
    "#                            {'criterion' : ['mae'], \n",
    "#                             'max_depth' : [2,4,6,8,10,12,14,16,18,20,22,24],\n",
    "#                             'min_samples_split' : [2,4,6,8,10], \n",
    "#                             'min_samples_leaf' : [2,4,6,8,10,12,14,16,18,20,22,24],\n",
    "#                             'max_features' : ['sqrt'], \n",
    "#                             'random_state' : [5]\n",
    "#                            }, verbose=1)\n",
    "#clf_dec_tree.fit(X_train,y_train)\n",
    "#print(clf_dec_tree.best_params_)\n",
    "#get_score(clf_dec_tree,X_val,y_val)"
   ]
  },
  {
   "cell_type": "code",
   "execution_count": null,
   "metadata": {},
   "outputs": [],
   "source": [
    "# Computationally intensive \n",
    "#KRR = KernelRidge(alpha=0.6, kernel='polynomial', degree=2, coef0=2.5)\n",
    "#KRR.fit(X_train, y_train)\n",
    "#get_score(KRR,X_val,y_val)\n",
    "\n",
    "# score = 33.473933712491295"
   ]
  },
  {
   "cell_type": "code",
   "execution_count": null,
   "metadata": {},
   "outputs": [],
   "source": [
    "# Very computationally expensive\n",
    "#BAYSR = BayesianRidge(n_iter=300, tol=0.001, alpha_1=1e-06, alpha_2=1e-06, lambda_1=1e-06, lambda_2=1e-06, \n",
    "#                      compute_score=True, fit_intercept=True, normalize=True)\n",
    "#BAYSR.fit(X_train, y_train)\n",
    "#get_score(BAYSR,X_val,y_val)"
   ]
  },
  {
   "cell_type": "markdown",
   "metadata": {},
   "source": [
    "# Plotting predictions"
   ]
  },
  {
   "cell_type": "code",
   "execution_count": null,
   "metadata": {},
   "outputs": [],
   "source": [
    "X_val = pd.read_pickle('dataFrames/X_val.pkl')\n",
    "X_val.head()"
   ]
  },
  {
   "cell_type": "code",
   "execution_count": null,
   "metadata": {},
   "outputs": [],
   "source": [
    "pred_cols = ['y_Gboost', 'y_xgb', 'y_bagging', 'y_lgbm', 'y_dec_tree', 'y_Random_forest', 'y_knn',\n",
    "             'y_elasticNet', 'y_ridge', 'y_lasso', 'y_AdaBoost', 'y_SVR']\n",
    "\n",
    "best_cols = ['y_Gboost', 'y_xgb', 'y_bagging', 'y_lgbm']\n",
    "best_pred = X_val[list(best_cols)]\n",
    "best_pred.head()"
   ]
  },
  {
   "cell_type": "code",
   "execution_count": null,
   "metadata": {},
   "outputs": [],
   "source": [
    "for col in pred_cols:\n",
    "    plt.figure(figsize=(16,6))\n",
    "    plt.scatter(y_val, X_val[col])\n",
    "    plt.title('Price vs '+ col)\n",
    "    plt.xlabel(col)\n",
    "    plt.ylabel('Price')\n",
    "    plt.show()"
   ]
  },
  {
   "cell_type": "markdown",
   "metadata": {},
   "source": [
    "# Stacking"
   ]
  },
  {
   "cell_type": "markdown",
   "metadata": {},
   "source": [
    "### Testing self stacking"
   ]
  },
  {
   "cell_type": "code",
   "execution_count": null,
   "metadata": {},
   "outputs": [],
   "source": [
    "lst = list(itertools.product([0, 1], repeat= len(best_cols)))\n",
    "\n",
    "opt_comb  = lst[0]\n",
    "opt_score = 1e500000\n",
    "\n",
    "for i in range(1,len(lst)):\n",
    "    A = lst[2**(len(best_cols))-i]\n",
    "    selected_cols = []\n",
    "    for i in range(len(best_cols)):\n",
    "        if A[i]:\n",
    "            selected_cols.append(best_cols[i])\n",
    "    Xstack = np.array(best_pred[selected_cols])\n",
    "    l1_stacked  = Lasso(alpha = 0.0001,fit_intercept = True)\n",
    "    l1_stacked.fit(Xstack, y_val)\n",
    "    l1_score = get_score(l1_stacked, Xstack, y_val)\n",
    "    \n",
    "    if l1_score < opt_score:\n",
    "        opt_score = l1_score\n",
    "        opt_comb = lst[i]\n",
    "    print(i, '%.2f' % l1_score, A )\n",
    "print(\"optimal choice: \", '%.2f' % opt_score, opt_comb)"
   ]
  },
  {
   "cell_type": "code",
   "execution_count": null,
   "metadata": {},
   "outputs": [],
   "source": [
    "A = lst[2**(len(best_cols))-1]\n",
    "selected_cols = []\n",
    "for i in range(len(best_cols)):\n",
    "    if A[i]:\n",
    "        selected_cols.append(best_cols[i])\n",
    "Xstack = np.array(best_pred[selected_cols])\n",
    "print(selected_cols)\n",
    "y_mean = np.mean(Xstack,axis=1)\n",
    "mean_absolute_precision_error(y_mean,y_val)\n",
    "\n",
    "# ['y_Gboost', 'y_xgb', 'y_bagging', 'y_lgbm']\n",
    "# 17.522228479312353"
   ]
  },
  {
   "cell_type": "code",
   "execution_count": null,
   "metadata": {},
   "outputs": [],
   "source": [
    "y_prod_avg = (Xstack[:,0]*Xstack[:,1]*Xstack[:,2]*Xstack[:,3])**(1.0/4.0)\n",
    "mean_absolute_precision_error(y_prod_avg,y_val)\n",
    "\n",
    "# 17.415549371458187"
   ]
  },
  {
   "cell_type": "markdown",
   "metadata": {},
   "source": [
    "### Testing stackingRegressor\n",
    "\n",
    "Look at the following link: https://www.kaggle.com/laurenstc/top-2-of-leaderboard-advanced-fe"
   ]
  },
  {
   "cell_type": "markdown",
   "metadata": {},
   "source": [
    "#### Creating base estimators"
   ]
  },
  {
   "cell_type": "code",
   "execution_count": null,
   "metadata": {},
   "outputs": [],
   "source": [
    "LGBF = lgb.LGBMRegressor(objective='regression',num_leaves=15,\n",
    "                          learning_rate=0.05, n_estimators=15000,\n",
    "                          max_bin = 1000, bagging_fraction = 0.6,\n",
    "                          bagging_freq = 5, feature_fraction = 0.25,\n",
    "                          feature_fraction_seed=9, bagging_seed=20,\n",
    "                          min_data_in_leaf = 11, min_sum_hessian_in_leaf = 11)\n",
    "\n",
    "GBSTF = GradientBoostingRegressor(n_estimators=3200, learning_rate=0.05,\n",
    "                                  max_depth=10, max_features='sqrt',\n",
    "                                  min_samples_leaf=15, min_samples_split=10, \n",
    "                                  loss='huber', random_state =5)\n",
    "\n",
    "XGBF = xgb.XGBRegressor(colsample_bytree=0.4603, gamma=0.0468, \n",
    "                        learning_rate=0.05, max_depth=10, \n",
    "                        min_child_weight=1.7817, n_estimators=2200,\n",
    "                        reg_alpha=0.4640, reg_lambda=0.8571,\n",
    "                        subsample=0.5213, silent=1,\n",
    "                        random_state =5 , nthread = -1)\n",
    "\n",
    "BAGF  = BaggingRegressor(n_estimators=100, max_samples=1.0, max_features=1.0, random_state=5, verbose=1)\n",
    "DECF  = DecisionTreeRegressor(max_depth=15)\n",
    "KNNF  = KNeighborsClassifier(2)\n",
    "LASSF = Lasso(fit_intercept = True)\n",
    "RDGF  = Ridge()\n",
    "ENTF  = make_pipeline(RobustScaler(), ElasticNet(alpha=0.8, l1_ratio=.9, random_state=3))\n",
    "\n",
    "models = { \"Gboost\": GBSTF, \"xgb\": XGBF, \"bagging\": BAGF, \"lgbm\": LGBF, \"dec_tree\": DECF, \n",
    "          \"knn\": KNNF, \"elasticNet\": ENTF, \"ridge\": RDGF, \"lasso\": LASSF}\n",
    "\n",
    "for model_name in models:\n",
    "    model = models[model_name]\n",
    "    start_time = time.time()\n",
    "    model.fit(X_train, y_train)\n",
    "    train_cols = X_train.columns.tolist()\n",
    "    X_val['y_' + model_name] = model.predict(X_val[train_cols])\n",
    "    score = mean_absolute_precision_error(X_val['y_' + model_name], y_val)\n",
    "    print(model_name, '%.2f' % float((time.time() - start_time)/60 ) +\" mins, score= \", '%.2f' % score)"
   ]
  },
  {
   "cell_type": "markdown",
   "metadata": {},
   "source": [
    "#### Training the Meta model"
   ]
  },
  {
   "cell_type": "code",
   "execution_count": null,
   "metadata": {},
   "outputs": [],
   "source": [
    "regressors = [XGBF, BAGF, LGBF]\n",
    "stregr     = StackingRegressor(regressors=regressors, meta_regressor=GBSTF)\n",
    "start_time = time.time()\n",
    "stregr.fit(X_train, y_train)\n",
    "y_pred = stregr.predict(X_val[train_cols])\n",
    "score  = mean_absolute_precision_error(y_pred, y_val)\n",
    "print(\"stackingRegressor model\", '%.2f' % float((time.time() - start_time)/60 ) +\" mins, score= \", '%.2f' % score)\n",
    "# stackingRegressor model 6.27 mins, score=  18.20"
   ]
  },
  {
   "cell_type": "code",
   "execution_count": null,
   "metadata": {},
   "outputs": [],
   "source": [
    "regressors = [XGBF, BAGF, LGBF, DECF, KNNF, LASSF, RDGF, ENTF]\n",
    "stregr     = StackingRegressor(regressors=regressors, meta_regressor=GBSTF)\n",
    "start_time = time.time()\n",
    "stregr.fit(X_train, y_train)\n",
    "y_pred = stregr.predict(X_val[train_cols])\n",
    "score  = mean_absolute_precision_error(y_pred, y_val)\n",
    "print(\"stackingRegressor model\", '%.2f' % float((time.time() - start_time)/60 ) +\" mins, score= \", '%.2f' % score)\n",
    "# stackingRegressor model 7.62 mins, score=  19.22"
   ]
  },
  {
   "cell_type": "code",
   "execution_count": null,
   "metadata": {},
   "outputs": [],
   "source": [
    "#regressors = [GBSTF, XGBF, BAGF, LGBF]\n",
    "#stregr     = StackingRegressor(regressors=regressors, meta_regressor=LASSF)\n",
    "\n",
    "#params = {'xgbregressor__n_estimators': [2000],#[100, 200, 500, 1000],\n",
    "#          'xgbregressor__max_depth': [8],#[2,4,8,16],\n",
    "#          'meta-gradientboostingregressor__n_estimators': [2000],#[100, 200, 500, 1000],\n",
    "#          'meta-gradientboostingregressor__max_depth': [48],#[2,4,8,16],\n",
    "#          'baggingregressor__base_estimator': [KNeighborsRegressor()]}#, DecisionTreeRegressor()]}\n",
    "\n",
    "#grid = GridSearchCV(estimator=stregr, \n",
    "#                    param_grid=params, \n",
    "#                    cv=3,\n",
    "#                    refit=True)\n",
    "#grid.fit(X_train, y_train)\n",
    "#print(grid.best_params_)\n",
    "#get_score(grid,X_val,y_val)"
   ]
  },
  {
   "cell_type": "markdown",
   "metadata": {},
   "source": [
    "### Testing another stacking method\n",
    "\n",
    "Look at the following link:\n",
    "https://www.kaggle.com/serigne/stacked-regressions-top-4-on-leaderboard"
   ]
  },
  {
   "cell_type": "markdown",
   "metadata": {},
   "source": [
    "#### Averaged base models class"
   ]
  },
  {
   "cell_type": "code",
   "execution_count": null,
   "metadata": {},
   "outputs": [],
   "source": [
    "class AveragingModels(BaseEstimator, RegressorMixin, TransformerMixin):\n",
    "    def __init__(self, models):\n",
    "        self.models = models\n",
    "        \n",
    "    # we define clones of the original models to fit the data in\n",
    "    def fit(self, X, y):\n",
    "        self.models_ = [clone(x) for x in self.models]\n",
    "        \n",
    "        # Train cloned base models\n",
    "        for model in self.models_:\n",
    "            model.fit(X, y)\n",
    "\n",
    "        return self\n",
    "    \n",
    "    #Now we do the predictions for cloned models and average them\n",
    "    def predict(self, X):\n",
    "        predictions = np.column_stack([\n",
    "            model.predict(X) for model in self.models_\n",
    "        ])\n",
    "        return np.mean(predictions, axis=1)"
   ]
  },
  {
   "cell_type": "code",
   "execution_count": null,
   "metadata": {},
   "outputs": [],
   "source": [
    "start_time = time.time()\n",
    "averaged_models = AveragingModels(models = (XGBF, GBSTF, BAGF))\n",
    "averaged_models.fit(X_train, y_train)\n",
    "y_pred = averaged_models.predict(X_val[train_cols])\n",
    "score  = mean_absolute_precision_error(y_pred, y_val)\n",
    "print(\"Average models\", '%.2f' % float((time.time() - start_time)/60 ) +\" mins, score =\", '%.2f' % score)\n",
    "# Average models 7.45 mins, score=  17.54"
   ]
  },
  {
   "cell_type": "markdown",
   "metadata": {},
   "source": [
    "#### Stacking Averaged models Score"
   ]
  },
  {
   "cell_type": "code",
   "execution_count": null,
   "metadata": {},
   "outputs": [],
   "source": [
    "class StackingAveragedModels(BaseEstimator, RegressorMixin, TransformerMixin):\n",
    "    def __init__(self, base_models, meta_model, n_folds=5):\n",
    "        self.base_models = base_models\n",
    "        self.meta_model = meta_model\n",
    "        self.n_folds = n_folds\n",
    "   \n",
    "    # We again fit the data on clones of the original models\n",
    "    def fit(self, X, y):\n",
    "        self.base_models_ = [list() for x in self.base_models]\n",
    "        self.meta_model_ = clone(self.meta_model)\n",
    "        kfold = KFold(n_splits=self.n_folds, shuffle=True, random_state=156)\n",
    "        \n",
    "        # Train cloned base models then create out-of-fold predictions\n",
    "        # that are needed to train the cloned meta-model\n",
    "        out_of_fold_predictions = np.zeros((X.shape[0], len(self.base_models)))\n",
    "        for i, model in enumerate(self.base_models):\n",
    "            for train_index, holdout_index in kfold.split(X, y):\n",
    "                instance = clone(model)\n",
    "                self.base_models_[i].append(instance)\n",
    "                #instance.fit(X[train_index], y[train_index])\n",
    "                instance.fit(X.iloc[train_index], y.iloc[train_index])\n",
    "                y_pred = instance.predict(X.iloc[holdout_index])\n",
    "                out_of_fold_predictions[holdout_index, i] = y_pred\n",
    "                \n",
    "        # Now train the cloned  meta-model using the out-of-fold predictions as new feature\n",
    "        self.meta_model_.fit(out_of_fold_predictions, y)\n",
    "        return self\n",
    "   \n",
    "    #Do the predictions of all base models on the test data and use the averaged predictions as \n",
    "    #meta-features for the final prediction which is done by the meta-model\n",
    "    def predict(self, X):\n",
    "        meta_features = np.column_stack([\n",
    "            np.column_stack([model.predict(X) for model in base_models]).mean(axis=1)\n",
    "            for base_models in self.base_models_ ])\n",
    "        return self.meta_model_.predict(meta_features)"
   ]
  },
  {
   "cell_type": "code",
   "execution_count": null,
   "metadata": {},
   "outputs": [],
   "source": [
    "start_time = time.time() \n",
    "stacked_averaged_models  = StackingAveragedModels(base_models = (XGBF, BAGF), meta_model = GBSTF)\n",
    "stacked_averaged_models.fit(X_train, y_train)\n",
    "y_pred = stacked_averaged_models.predict(X_val[train_cols])\n",
    "score  = mean_absolute_precision_error(y_pred, y_val)\n",
    "print(\"stacking Averaged models\", '%.2f' % float((time.time() - start_time)/60 ) +\" mins, score =\", '%.2f' % score)\n",
    "# stacking Averaged models 13.63 mins, score=  18.68"
   ]
  },
  {
   "cell_type": "code",
   "execution_count": null,
   "metadata": {},
   "outputs": [],
   "source": []
  },
  {
   "cell_type": "code",
   "execution_count": null,
   "metadata": {},
   "outputs": [],
   "source": []
  },
  {
   "cell_type": "code",
   "execution_count": null,
   "metadata": {},
   "outputs": [],
   "source": []
  },
  {
   "cell_type": "code",
   "execution_count": null,
   "metadata": {},
   "outputs": [],
   "source": []
  },
  {
   "cell_type": "code",
   "execution_count": null,
   "metadata": {},
   "outputs": [],
   "source": []
  },
  {
   "cell_type": "code",
   "execution_count": null,
   "metadata": {},
   "outputs": [],
   "source": []
  },
  {
   "cell_type": "code",
   "execution_count": null,
   "metadata": {},
   "outputs": [],
   "source": []
  },
  {
   "cell_type": "code",
   "execution_count": null,
   "metadata": {},
   "outputs": [],
   "source": []
  },
  {
   "cell_type": "code",
   "execution_count": null,
   "metadata": {},
   "outputs": [],
   "source": []
  },
  {
   "cell_type": "code",
   "execution_count": null,
   "metadata": {},
   "outputs": [],
   "source": []
  },
  {
   "cell_type": "code",
   "execution_count": null,
   "metadata": {},
   "outputs": [],
   "source": []
  },
  {
   "cell_type": "code",
   "execution_count": null,
   "metadata": {},
   "outputs": [],
   "source": []
  },
  {
   "cell_type": "code",
   "execution_count": null,
   "metadata": {},
   "outputs": [],
   "source": []
  },
  {
   "cell_type": "code",
   "execution_count": null,
   "metadata": {},
   "outputs": [],
   "source": []
  },
  {
   "cell_type": "code",
   "execution_count": null,
   "metadata": {},
   "outputs": [],
   "source": []
  },
  {
   "cell_type": "code",
   "execution_count": null,
   "metadata": {},
   "outputs": [],
   "source": []
  },
  {
   "cell_type": "code",
   "execution_count": null,
   "metadata": {},
   "outputs": [],
   "source": []
  },
  {
   "cell_type": "code",
   "execution_count": null,
   "metadata": {},
   "outputs": [],
   "source": []
  },
  {
   "cell_type": "code",
   "execution_count": null,
   "metadata": {},
   "outputs": [],
   "source": []
  },
  {
   "cell_type": "code",
   "execution_count": null,
   "metadata": {},
   "outputs": [],
   "source": []
  },
  {
   "cell_type": "code",
   "execution_count": null,
   "metadata": {},
   "outputs": [],
   "source": []
  },
  {
   "cell_type": "code",
   "execution_count": null,
   "metadata": {},
   "outputs": [],
   "source": []
  },
  {
   "cell_type": "code",
   "execution_count": null,
   "metadata": {},
   "outputs": [],
   "source": []
  },
  {
   "cell_type": "code",
   "execution_count": null,
   "metadata": {},
   "outputs": [],
   "source": []
  },
  {
   "cell_type": "code",
   "execution_count": null,
   "metadata": {},
   "outputs": [],
   "source": []
  },
  {
   "cell_type": "code",
   "execution_count": null,
   "metadata": {},
   "outputs": [],
   "source": []
  },
  {
   "cell_type": "code",
   "execution_count": null,
   "metadata": {},
   "outputs": [],
   "source": []
  },
  {
   "cell_type": "markdown",
   "metadata": {},
   "source": [
    "# Trying a new model for each Vehicle Type"
   ]
  },
  {
   "cell_type": "code",
   "execution_count": null,
   "metadata": {},
   "outputs": [],
   "source": [
    "vTypes = set(all_data['vehicleType_ids'])\n",
    "all_vType     = {}\n",
    "final_models  = {}\n",
    "\n",
    "for i in vTypes:\n",
    "    tmp_vType = all_data[all_data['vehicleType_ids'] == i]\n",
    "    #tmp_vType = tmp_vType.drop(['vehicleType_ids'], axis=1)\n",
    "    all_vType[i] = tmp_vType\n",
    "    start_time = time.time()\n",
    "    vType_train = tmp_vType[tmp_vType['price'].notnull()]\n",
    "    vType_test  = tmp_vType[tmp_vType['price'].isnull()].drop(['price'], axis=1)\n",
    "    X = vType_train.drop(['ID','price', 'vehicleType_ids'],axis=1)\n",
    "    y = vType_train['price']\n",
    "    X_train, X_val, y_train, y_val = train_test_split(X, y, test_size=0.33, random_state=42)\n",
    "\n",
    "    if i != 1:\n",
    "        minSampleLeaf = 20 \n",
    "    else:\n",
    "        minSampleLeaf = 15\n",
    "    \n",
    "    if i != 3:\n",
    "        nEstimators = 1000\n",
    "        minSampleSplit = 4\n",
    "    else:\n",
    "        nEstimators = 1500\n",
    "        minSampleSplit = 2\n",
    "    \n",
    "    GBoost = GradientBoostingRegressor(learning_rate=0.1, max_features='sqrt', loss='huber',\n",
    "                                       min_samples_leaf=minSampleLeaf, min_samples_split=minSampleSplit, \n",
    "                                       n_estimators=nEstimators, max_depth=8, alpha = 0.7)\n",
    "    \n",
    "    GBoost.fit(X_train,y_train)\n",
    "    \n",
    "    print(\"%.2f\" % float((time.time() - start_time)/60 ) +\" mins, vType: \",i, \", items: \", tmp_vType.shape[0],\n",
    "          \", loss: \", \"%.2f\" % get_score(GBoost,X_val,y_val))\n",
    "    \n",
    "    GB_Final = GradientBoostingRegressor(learning_rate=0.1, max_features='sqrt', loss='huber',\n",
    "                                         min_samples_leaf=minSampleLeaf, min_samples_split=minSampleSplit, \n",
    "                                         n_estimators=nEstimators, max_depth=8, alpha = 0.7)\n",
    "    \n",
    "    GB_Final.fit(X,y)\n",
    "    final_models[i] = GB_Final  \n",
    "    \n",
    "    #clf_GBoost = GridSearchCV(GBoost, \n",
    "    #                      {\n",
    "    #                       'min_samples_split': [2,4],\n",
    "    #                       'n_estimators': [1000,1500], \n",
    "    #                       'max_depth': [4,8],\n",
    "    #                       'min_samples_leaf': [20,15],\n",
    "    #                      },  verbose=2)\n",
    "\n",
    "    #clf_GBoost.fit(X_train,y_train)\n",
    "    #, best model: \", GBoost.get_params)# clf_GBoost.best_params_) "
   ]
  },
  {
   "cell_type": "code",
   "execution_count": null,
   "metadata": {},
   "outputs": [],
   "source": [
    "filename = \"/Users/mohsenkiskani/Downloads/Ubaar/submissions/submission15.csv\"\n",
    "with open(filename,\"w+\") as outputfile:\n",
    "    outputfile.write(\"ID,price\\n\")        \n",
    "    \n",
    "    for i in final_models.keys():\n",
    "        tmp_test0            = test[test['vehicleType_ids']==i]\n",
    "        tmp_test1            = tmp_test0.drop(['ID', 'price', 'vehicleType_ids'], axis=1)\n",
    "        tmp_model            = final_models[i]\n",
    "        tmp_test0['y_pred']  = tmp_model.predict(tmp_test1)\n",
    "    \n",
    "        for j in range(tmp_test0.shape[0]):\n",
    "            y_pred_test = tmp_test0.iloc[j]['y_pred'] \n",
    "            if y_pred_test < 0:\n",
    "                y_pred_test = min_price \n",
    "            outputfile.write(str(int(tmp_test0.iloc[j]['ID'] ))+\",\"+str(int(np.ceil(y_pred_test)))+\"\\n\")"
   ]
  },
  {
   "cell_type": "markdown",
   "metadata": {},
   "source": [
    "# Trying a new model for each Vehicle Type and Vehicle Option ?"
   ]
  },
  {
   "cell_type": "code",
   "execution_count": null,
   "metadata": {},
   "outputs": [],
   "source": [
    "all_cats2 = all_data[['vehicleType_ids', 'vehicleOption_ids']].as_matrix().tolist()\n",
    "all_cats2 = [(x[0],x[1]) for x in all_cats2 ]\n",
    "all_cats2 = set(all_cats2)\n",
    "all_data_cat2 = {}\n",
    "\n",
    "for item in all_cats2:\n",
    "    tmp_data1 = all_data[all_data['vehicleType_ids'] == item[0]]\n",
    "    tmp_data2 = tmp_data1[tmp_data1['vehicleOption_ids'] == item[1]]\n",
    "    tmp_data = tmp_data2.drop(['vehicleType_ids', 'vehicleOption_ids'], axis=1)\n",
    "    all_data_cat2[item] = tmp_data\n",
    "    #print(item, tmp_data.shape)"
   ]
  },
  {
   "cell_type": "code",
   "execution_count": null,
   "metadata": {},
   "outputs": [],
   "source": [
    "all_data_cat_shape2 = {}\n",
    "for x in all_data_cat2.keys():\n",
    "    \n",
    "    cat_df2    = all_data_cat2[x]\n",
    "    cat_train2 = cat_df2[cat_df2['price'].notnull()]\n",
    "    cat_test2  = cat_df2[cat_df2['price'].isnull()].drop(['price'], axis=1)\n",
    "    \n",
    "    all_data_cat_shape2[x] = (cat_train2.shape[0], cat_test2.shape[0])"
   ]
  },
  {
   "cell_type": "code",
   "execution_count": null,
   "metadata": {},
   "outputs": [],
   "source": [
    "test_sum = pd.DataFrame() \n",
    "for item in  [(1,6)]: # all_cats2: \n",
    "    start_time = time.time()\n",
    "    \n",
    "    cat_df2    = all_data_cat2[item]\n",
    "    cat_train2 = cat_df2[cat_df2['price'].notnull()]\n",
    "    cat_test2  = cat_df2[cat_df2['price'].isnull()].drop(['price'], axis=1)\n",
    "\n",
    "    X = cat_train2.drop(['ID','price'],axis=1)\n",
    "    y = cat_train2['price']\n",
    "\n",
    "    X_train, X_val, y_train, y_val = train_test_split(X, y, test_size=0.33, random_state=42)\n",
    "\n",
    "    #gboost_base = GradientBoostingRegressor()\n",
    "    #GBoost      = GridSearchCV(gboost_base,\n",
    "    #                   {'max_depth': [2,4,6,8,10,12],\n",
    "    #                    'n_estimators': [50,100,200,500,1000]}, verbose=1)\n",
    "\n",
    "\n",
    "\n",
    "    GBoost = GradientBoostingRegressor(n_estimators=2000, learning_rate=0.05,\n",
    "                                       max_depth=6, max_features='sqrt',\n",
    "                                       min_samples_leaf=8, min_samples_split=4, \n",
    "                                       loss='huber', random_state =5)\n",
    "\n",
    "    GBoost.fit(X_train, y_train)\n",
    "    #print(GBoost.best_params_)\n",
    "    #'destinationLatitude','destinationLongitude','sourceLatitude','sourceLongitude',\n",
    "    print(item, cat_df2.shape[0], \"%.2f\" % get_score(GBoost,X_val,y_val),\n",
    "          \"%.2f\" % float((time.time() - start_time)/60 )) \n",
    "\n",
    "\n",
    "#cat_test['pred_price'] = GBoost.predict(cat_test.drop(['ID'], axis=1))\n",
    "#cat_test['pred_price'] = cat_test['pred_price'].apply((lambda x: max(x, min_price) ))\n",
    "#test_sum = pd.concat([test_sum,cat_test])\n",
    "\n",
    "#test_sum.shape"
   ]
  },
  {
   "cell_type": "code",
   "execution_count": null,
   "metadata": {},
   "outputs": [],
   "source": []
  },
  {
   "cell_type": "markdown",
   "metadata": {},
   "source": [
    "# Final model"
   ]
  },
  {
   "cell_type": "code",
   "execution_count": null,
   "metadata": {},
   "outputs": [],
   "source": [
    "# Current best model \n",
    "start_time = time.time()\n",
    "Final = GradientBoostingRegressor(n_estimators=2200, learning_rate=0.05,\n",
    "                                   max_depth=10, max_features='sqrt',\n",
    "                                   min_samples_leaf=15, min_samples_split=10, \n",
    "                                   loss='huber', random_state =5)\n",
    "Final.fit(train.drop(['ID','price'],axis=1), train.price)\n",
    "y_pred_test = Final.predict(test.drop(['ID','price'],axis=1))\n",
    "print( '%.2f' % float((time.time() - start_time)/60 ) )"
   ]
  },
  {
   "cell_type": "markdown",
   "metadata": {},
   "source": [
    "# Save to file"
   ]
  },
  {
   "cell_type": "code",
   "execution_count": null,
   "metadata": {},
   "outputs": [],
   "source": [
    "filename = \"/Users/mohsenkiskani/Downloads/Ubaar/submissions/submission17.csv\"\n",
    "with open(filename,\"w+\") as outputfile:\n",
    "    outputfile.write(\"ID,price\\n\")\n",
    "    for i in range(y_pred_test.shape[0]):\n",
    "        if y_pred_test[i] < 0:\n",
    "            y_pred_test[i] = 100000 \n",
    "        outputfile.write(str(test_data.ID[i])+\",\"+str(int(np.ceil(y_pred_test[i])))+\"\\n\")"
   ]
  },
  {
   "cell_type": "code",
   "execution_count": null,
   "metadata": {},
   "outputs": [],
   "source": []
  },
  {
   "cell_type": "code",
   "execution_count": null,
   "metadata": {},
   "outputs": [],
   "source": []
  },
  {
   "cell_type": "code",
   "execution_count": null,
   "metadata": {},
   "outputs": [],
   "source": []
  },
  {
   "cell_type": "code",
   "execution_count": null,
   "metadata": {},
   "outputs": [],
   "source": []
  },
  {
   "cell_type": "code",
   "execution_count": null,
   "metadata": {},
   "outputs": [],
   "source": []
  },
  {
   "cell_type": "code",
   "execution_count": null,
   "metadata": {},
   "outputs": [],
   "source": []
  },
  {
   "cell_type": "markdown",
   "metadata": {},
   "source": [
    "### Deal with high skewness"
   ]
  },
  {
   "cell_type": "code",
   "execution_count": null,
   "metadata": {},
   "outputs": [],
   "source": [
    "numeric_feats = all_data.dtypes[all_data.dtypes != \"object\"].index\n",
    "# Check the skew of all numerical features\n",
    "skewed_feats = all_data[numeric_feats].apply(lambda x: skew(x.dropna())).sort_values(ascending=False)\n",
    "\n",
    "#print(\"\\nSkew in numerical features: \\n\")\n",
    "skewness = pd.DataFrame({'Skew' :skewed_feats})\n",
    "#print(skewness.head(10))\n",
    "\n",
    "skewness = skewness[abs(skewness) > 0.75]\n",
    "#print(\"There are {} skewed numerical features to Box Cox transform\".format(skewness.shape[0]))\n",
    "\n",
    "skewed_features = skewness.index\n",
    "lam = 0.15\n",
    "for feat in skewed_features:\n",
    "    all_data[feat] = boxcox1p(all_data[feat], lam)\n",
    "#all_data[skewed_features] = np.log1p(all_data[skewed_features])"
   ]
  },
  {
   "cell_type": "markdown",
   "metadata": {},
   "source": [
    "# Plots "
   ]
  },
  {
   "cell_type": "code",
   "execution_count": null,
   "metadata": {},
   "outputs": [],
   "source": [
    "fig1, (ay1, ay2) = plt.subplots(2, 1)\n",
    "\n",
    "\n",
    "ay1.scatter(x = X_train['sourceLatitude'], y = y_train, marker = \"+\")\n",
    "ay1.set_title('Price vs sourceLatitude')\n",
    "ay1.set_xlabel('sourceLatitude')\n",
    "ay1.set_ylabel('Price')\n",
    "\n",
    "ay2.scatter(x = X_train['sourceLongitude'], y = y_train, marker = \"+\")\n",
    "ay2.set_title('Price vs sourceLongitude')\n",
    "ay2.set_xlabel('sourceLongitude')\n",
    "ay2.set_ylabel('Price')\n",
    "\n",
    "fig1.set_size_inches(28.5, 10.5)\n",
    "fig1.savefig(\"/Users/mohsenkiskani/Downloads/Ubaar/plots/sourceEffects.png\", dpi=100)\n",
    "plt.show()"
   ]
  },
  {
   "cell_type": "code",
   "execution_count": null,
   "metadata": {},
   "outputs": [],
   "source": [
    "fig2, (ay3, ay4) = plt.subplots(2, 1)\n",
    "\n",
    "\n",
    "ay3.scatter(x = X_train['destinationLatitude'], y = y_train, marker = \"+\")\n",
    "ay3.set_title('Price vs destinationLatitude')\n",
    "ay3.set_xlabel('destinationLatitude')\n",
    "ay3.set_ylabel('Price')\n",
    "\n",
    "ay4.scatter(x = X_train['destinationLongitude'], y = y_train, marker = \"+\")\n",
    "ay4.set_title('Price vs destinationLongitude')\n",
    "ay4.set_xlabel('destinationLongitude')\n",
    "ay4.set_ylabel('Price')\n",
    "\n",
    "fig2.set_size_inches(28.5, 10.5)\n",
    "fig2.savefig(\"/Users/mohsenkiskani/Downloads/Ubaar/plots/destinationEffects.png\", dpi=100)\n",
    "plt.show()"
   ]
  },
  {
   "cell_type": "code",
   "execution_count": null,
   "metadata": {},
   "outputs": [],
   "source": [
    "fig3, (ay3, ay4, ay5) = plt.subplots(3, 1)\n",
    "\n",
    "\n",
    "ay3.scatter(x = X_train['distanceKM'], y = y_train, marker = \"+\")\n",
    "ay3.set_title('Price vs distanceKM')\n",
    "ay3.set_xlabel('distanceKM')\n",
    "ay3.set_ylabel('Price')\n",
    "\n",
    "ay4.scatter(x = X_train['taxiDurationMin'], y = y_train, marker = \"+\")\n",
    "ay4.set_title('Price vs taxiDurationMin')\n",
    "ay4.set_xlabel('taxiDurationMin')\n",
    "ay4.set_ylabel('Price')\n",
    "\n",
    "ay5.scatter(x = X_train['weight'], y = y_train, marker = \"+\")\n",
    "ay5.set_title('Price vs weight')\n",
    "ay5.set_xlabel('weight')\n",
    "ay5.set_ylabel('Price')\n",
    "\n",
    "fig3.set_size_inches(28.5, 10.5)\n",
    "fig3.savefig(\"/Users/mohsenkiskani/Downloads/Ubaar/plots/distance-time-Effects.png\", dpi=100)\n",
    "plt.show()"
   ]
  },
  {
   "cell_type": "code",
   "execution_count": null,
   "metadata": {},
   "outputs": [],
   "source": [
    "corrmat = data.corr()\n",
    "plt.subplots(figsize=(12,9))\n",
    "sns.heatmap(corrmat, vmax=0.9, square=True)"
   ]
  },
  {
   "cell_type": "code",
   "execution_count": null,
   "metadata": {},
   "outputs": [],
   "source": [
    "sns.distplot(y_train , fit=norm);\n",
    "(mu, sigma) = norm.fit(y_train)\n",
    "\n",
    "print( '\\n mu = {:.2f} and sigma = {:.2f}\\n'.format(mu, sigma))\n",
    "\n",
    "plt.legend(['Normal dist. ($\\mu=$ {:.2f} and $\\sigma=$ {:.2f} )'.format(mu, sigma)],\n",
    "            loc='best')\n",
    "plt.ylabel('Frequency')\n",
    "plt.title('SalePrice distribution')\n",
    "\n",
    "#Get also the QQ-plot\n",
    "fig = plt.figure()\n",
    "res = stats.probplot(y_train, plot=plt)\n",
    "plt.show()"
   ]
  },
  {
   "cell_type": "code",
   "execution_count": null,
   "metadata": {},
   "outputs": [],
   "source": [
    "y_train_lp = np.log1p(y_train)\n",
    "\n",
    "sns.distplot(y_train_lp, fit=norm);\n",
    "(mu, sigma) = norm.fit(y_train_lp)\n",
    "print( '\\n mu = {:.2f} and sigma = {:.2f}\\n'.format(mu, sigma))\n",
    "\n",
    "#Now plot the distribution\n",
    "plt.legend(['Normal dist. ($\\mu=$ {:.2f} and $\\sigma=$ {:.2f} )'.format(mu, sigma)],\n",
    "            loc='best')\n",
    "plt.ylabel('Frequency')\n",
    "plt.title('SalePrice distribution')\n",
    "\n",
    "#Get also the QQ-plot\n",
    "fig = plt.figure()\n",
    "res = stats.probplot(y_train_lp, plot=plt)\n",
    "plt.show()"
   ]
  },
  {
   "cell_type": "code",
   "execution_count": null,
   "metadata": {},
   "outputs": [],
   "source": [
    "all_dates = data['date'].unique()\n",
    "date_price_vec = []\n",
    "\n",
    "for date in all_dates:\n",
    "    date_price_vec.append(np.mean(data.query('date == ' + str(date) ).price))\n",
    "    \n",
    "states = all_data['SourceState_ids'].unique()\n",
    "source_price_vec = []\n",
    "destin_price_vec = []\n",
    "\n",
    "for state in states:\n",
    "    source_price_vec.append(np.mean(data.query('date == ' + str(state) ).price))\n",
    "    destin_price_vec.append(np.mean(data.query('date == ' + str(state) ).price))"
   ]
  },
  {
   "cell_type": "code",
   "execution_count": null,
   "metadata": {},
   "outputs": [],
   "source": [
    "fig1, (ay1, ay2, ay3, ay4, ay5) = plt.subplots(5, 1)\n",
    "\n",
    "\n",
    "ay1.scatter(data.vehicleType, data.price, marker = \"+\")\n",
    "ay1.plot([0, 1, 2, 3], [np.mean(data.query('vehicleType == 0').price), np.mean(data.query('vehicleType == 1').price),\n",
    "         np.mean(data.query('vehicleType == 2').price), np.mean(data.query('vehicleType == 3').price)], 'r--')\n",
    "\n",
    "ay1.set_title('Price vs vehicle type')\n",
    "ay1.set_xlabel('Vehicle Type')\n",
    "ay1.set_ylabel('Price')\n",
    "\n",
    "\n",
    "ay2.scatter(data.vehicleOption, data.price, marker = \"+\")\n",
    "ay2.plot([0, 1, 2, 3, 4, 5, 6, 7, 8], [np.mean(data.query('vehicleOption == 0').price), \n",
    "                                       np.mean(data.query('vehicleOption == 1').price),\n",
    "                                       np.mean(data.query('vehicleOption == 2').price), \n",
    "                                       np.mean(data.query('vehicleOption == 3').price), \n",
    "                                       np.mean(data.query('vehicleOption == 4').price), \n",
    "                                       np.mean(data.query('vehicleOption == 5').price),\n",
    "                                       np.mean(data.query('vehicleOption == 6').price),\n",
    "                                       np.mean(data.query('vehicleOption == 7').price), \n",
    "                                       np.mean(data.query('vehicleOption == 8').price)], 'r--')\n",
    "\n",
    "\n",
    "ay2.set_title('Price vs vehicle option')\n",
    "ay2.set_xlabel('Vehicle Option')\n",
    "ay2.set_ylabel('Price')\n",
    "\n",
    "ay3.scatter(data.date, data.price, marker = \"+\")\n",
    "ay3.plot(all_dates, date_price_vec, 'r--')\n",
    "ay3.set_title('Price vs date')\n",
    "ay3.set_xlabel('Date')\n",
    "ay3.set_ylabel('Price')\n",
    "\n",
    "ay4.scatter(data.SourceState, data.price, marker = \"+\")\n",
    "ay4.plot(states, source_price_vec, 'r--')\n",
    "ay4.set_title('Price vs source state')\n",
    "ay4.set_xlabel('Date')\n",
    "ay4.set_ylabel('Price')\n",
    "\n",
    "ay5.scatter(data.destinationState, data.price, marker = \"+\")\n",
    "ay5.plot(states, destin_price_vec, 'r--')\n",
    "ay5.set_title('Price vs destination state')\n",
    "ay5.set_xlabel('Date')\n",
    "ay5.set_ylabel('Price')\n",
    "\n",
    "fig1.set_size_inches(28.5, 10.5)\n",
    "fig1.savefig(\"/Users/mohsenkiskani/Downloads/Ubaar/plots/categoryEffects.png\", dpi=100)\n",
    "plt.show()"
   ]
  },
  {
   "cell_type": "code",
   "execution_count": null,
   "metadata": {},
   "outputs": [],
   "source": []
  },
  {
   "cell_type": "markdown",
   "metadata": {},
   "source": [
    "# Which features are most important?"
   ]
  },
  {
   "cell_type": "code",
   "execution_count": null,
   "metadata": {},
   "outputs": [],
   "source": [
    "for col in X_train.columns:\n",
    "    plt.figure(figsize=(16,6))\n",
    "    plt.scatter(train[col], train['price'])\n",
    "    plt.title('Price vs '+ col)\n",
    "    plt.xlabel(col)\n",
    "    plt.ylabel('Price')\n",
    "    plt.show()"
   ]
  },
  {
   "cell_type": "code",
   "execution_count": null,
   "metadata": {},
   "outputs": [],
   "source": [
    "fig = plt.figure(figsize=(16,6))\n",
    "ax = fig.add_subplot(111, projection='3d')\n",
    "ax.scatter(train['destinationLatitude'], train['destinationLongitude'], train['price'], c='r', marker='o')"
   ]
  },
  {
   "cell_type": "code",
   "execution_count": null,
   "metadata": {},
   "outputs": [],
   "source": [
    "fig = plt.figure(figsize=(16,6))\n",
    "ax = fig.add_subplot(111, projection='3d')\n",
    "ax.scatter(train['sourceLatitude'], train['sourceLongitude'], train['price'], c='g', marker='d')"
   ]
  },
  {
   "cell_type": "markdown",
   "metadata": {},
   "source": [
    "# Feature distributions"
   ]
  },
  {
   "cell_type": "code",
   "execution_count": 4,
   "metadata": {},
   "outputs": [
    {
     "data": {
      "text/plain": [
       "<matplotlib.axes._subplots.AxesSubplot at 0x1a17a550f0>"
      ]
     },
     "execution_count": 4,
     "metadata": {},
     "output_type": "execute_result"
    },
    {
     "data": {
      "image/png": "[encoded data removed]",
      "text/plain": [
       "<matplotlib.figure.Figure at 0x1a179f7be0>"
      ]
     },
     "metadata": {},
     "output_type": "display_data"
    }
   ],
   "source": [
    "sns.kdeplot(train['distanceKM'])\n",
    "sns.kdeplot(train['taxiDurationMin'])"
   ]
  },
  {
   "cell_type": "code",
   "execution_count": 5,
   "metadata": {},
   "outputs": [
    {
     "data": {
      "text/plain": [
       "<matplotlib.axes._subplots.AxesSubplot at 0x1a179f7fd0>"
      ]
     },
     "execution_count": 5,
     "metadata": {},
     "output_type": "execute_result"
    },
    {
     "data": {
      "image/png": "[encoded data removed]",
      "text/plain": [
       "<matplotlib.figure.Figure at 0x1a17ab65c0>"
      ]
     },
     "metadata": {},
     "output_type": "display_data"
    }
   ],
   "source": [
    "sns.kdeplot(train['weight'])"
   ]
  },
  {
   "cell_type": "code",
   "execution_count": 6,
   "metadata": {},
   "outputs": [
    {
     "data": {
      "text/plain": [
       "<matplotlib.axes._subplots.AxesSubplot at 0x1a2023e5f8>"
      ]
     },
     "execution_count": 6,
     "metadata": {},
     "output_type": "execute_result"
    },
    {
     "data": {
      "image/png": "[encoded data removed]",
      "text/plain": [
       "<matplotlib.figure.Figure at 0x1a1ff398d0>"
      ]
     },
     "metadata": {},
     "output_type": "display_data"
    }
   ],
   "source": [
    "sns.kdeplot(train['date_ids'])"
   ]
  },
  {
   "cell_type": "code",
   "execution_count": 7,
   "metadata": {},
   "outputs": [
    {
     "data": {
      "text/plain": [
       "<matplotlib.axes._subplots.AxesSubplot at 0x1a20fa3be0>"
      ]
     },
     "execution_count": 7,
     "metadata": {},
     "output_type": "execute_result"
    },
    {
     "data": {
      "image/png": "[encoded data removed]",
      "text/plain": [
       "<matplotlib.figure.Figure at 0x1a20f98da0>"
      ]
     },
     "metadata": {},
     "output_type": "display_data"
    }
   ],
   "source": [
    "sns.kdeplot(train['vehicleOption_ids'])"
   ]
  },
  {
   "cell_type": "code",
   "execution_count": 8,
   "metadata": {},
   "outputs": [
    {
     "data": {
      "text/plain": [
       "<matplotlib.axes._subplots.AxesSubplot at 0x1a247f5cf8>"
      ]
     },
     "execution_count": 8,
     "metadata": {},
     "output_type": "execute_result"
    },
    {
     "data": {
      "image/png": "[encoded data removed]",
      "text/plain": [
       "<matplotlib.figure.Figure at 0x1a247d33c8>"
      ]
     },
     "metadata": {},
     "output_type": "display_data"
    }
   ],
   "source": [
    "sns.countplot(train['vehicleOption_ids'])"
   ]
  },
  {
   "cell_type": "code",
   "execution_count": 9,
   "metadata": {},
   "outputs": [
    {
     "data": {
      "text/plain": [
       "<matplotlib.axes._subplots.AxesSubplot at 0x1116e6e48>"
      ]
     },
     "execution_count": 9,
     "metadata": {},
     "output_type": "execute_result"
    },
    {
     "data": {
      "image/png": "[encoded data removed]",
      "text/plain": [
       "<matplotlib.figure.Figure at 0x1a247122e8>"
      ]
     },
     "metadata": {},
     "output_type": "display_data"
    }
   ],
   "source": [
    "sns.kdeplot(train['vehicleType_ids'])"
   ]
  },
  {
   "cell_type": "code",
   "execution_count": 10,
   "metadata": {},
   "outputs": [
    {
     "data": {
      "text/plain": [
       "<matplotlib.axes._subplots.AxesSubplot at 0x1116e6080>"
      ]
     },
     "execution_count": 10,
     "metadata": {},
     "output_type": "execute_result"
    },
    {
     "data": {
      "image/png": "[encoded data removed]",
      "text/plain": [
       "<matplotlib.figure.Figure at 0x1a249830f0>"
      ]
     },
     "metadata": {},
     "output_type": "display_data"
    }
   ],
   "source": [
    "sns.countplot(train['vehicleType_ids'])"
   ]
  },
  {
   "cell_type": "code",
   "execution_count": 11,
   "metadata": {},
   "outputs": [
    {
     "data": {
      "text/plain": [
       "<matplotlib.axes._subplots.AxesSubplot at 0x1a24983d30>"
      ]
     },
     "execution_count": 11,
     "metadata": {},
     "output_type": "execute_result"
    },
    {
     "data": {
      "image/png": "[encoded data removed]",
      "text/plain": [
       "<matplotlib.figure.Figure at 0x1a24a5fd30>"
      ]
     },
     "metadata": {},
     "output_type": "display_data"
    }
   ],
   "source": [
    "sns.kdeplot(train['source_tuple_ids'])\n",
    "sns.kdeplot(train['destination_tuple_ids'])"
   ]
  },
  {
   "cell_type": "code",
   "execution_count": 12,
   "metadata": {},
   "outputs": [
    {
     "data": {
      "text/plain": [
       "<matplotlib.axes._subplots.AxesSubplot at 0x1a249792e8>"
      ]
     },
     "execution_count": 12,
     "metadata": {},
     "output_type": "execute_result"
    },
    {
     "data": {
      "image/png": "[encoded data removed]",
      "text/plain": [
       "<matplotlib.figure.Figure at 0x1a24b847b8>"
      ]
     },
     "metadata": {},
     "output_type": "display_data"
    }
   ],
   "source": [
    "sns.kdeplot(train['SourceState_ids'])\n",
    "sns.kdeplot(train['destinationState_ids'])"
   ]
  },
  {
   "cell_type": "markdown",
   "metadata": {},
   "source": [
    "# Which features are the most important in each model?"
   ]
  },
  {
   "cell_type": "code",
   "execution_count": 13,
   "metadata": {},
   "outputs": [],
   "source": [
    "XGBF = xgb.XGBRegressor(colsample_bytree=0.4603, gamma=0.0468, \n",
    "                        learning_rate=0.05, max_depth=10, \n",
    "                        min_child_weight=1.7817, n_estimators=2200,\n",
    "                        reg_alpha=0.4640, reg_lambda=0.8571,\n",
    "                        subsample=0.5213, silent=1, seed = 10,\n",
    "                        random_state =5 , nthread = -1)"
   ]
  },
  {
   "cell_type": "code",
   "execution_count": 14,
   "metadata": {},
   "outputs": [
    {
     "data": {
      "text/plain": [
       "Text(0,0.5,'Feature Importance Score')"
      ]
     },
     "execution_count": 14,
     "metadata": {},
     "output_type": "execute_result"
    },
    {
     "data": {
      "image/png": "[encoded data removed]",
      "text/plain": [
       "<matplotlib.figure.Figure at 0x1a24bf81d0>"
      ]
     },
     "metadata": {},
     "output_type": "display_data"
    }
   ],
   "source": [
    "XGBF.fit(X_train, y_train)\n",
    "\n",
    "feature_importances = pd.Series(XGBF.feature_importances_, X_train.columns.values)\n",
    "feature_importances = feature_importances.sort_values(ascending=False)\n",
    "\n",
    "feature_importances.plot(kind='bar', title='Feature Importances')\n",
    "plt.ylabel('Feature Importance Score')"
   ]
  },
  {
   "cell_type": "code",
   "execution_count": 15,
   "metadata": {},
   "outputs": [],
   "source": [
    "LGBF = lgb.LGBMRegressor(objective='regression',num_leaves=15,\n",
    "                          learning_rate=0.05, n_estimators=15000,\n",
    "                          max_bin = 1000, bagging_fraction = 0.6,\n",
    "                          bagging_freq = 5, feature_fraction = 0.25,\n",
    "                          feature_fraction_seed=9, bagging_seed=20,\n",
    "                          min_data_in_leaf = 11, min_sum_hessian_in_leaf = 11)"
   ]
  },
  {
   "cell_type": "code",
   "execution_count": 16,
   "metadata": {},
   "outputs": [
    {
     "data": {
      "text/plain": [
       "Text(0,0.5,'Feature Importance Score')"
      ]
     },
     "execution_count": 16,
     "metadata": {},
     "output_type": "execute_result"
    },
    {
     "data": {
      "image/png": "[encoded data removed]",
      "text/plain": [
       "<matplotlib.figure.Figure at 0x1a24b9e668>"
      ]
     },
     "metadata": {},
     "output_type": "display_data"
    }
   ],
   "source": [
    "LGBF.fit(X_train, y_train)\n",
    "\n",
    "feature_importances = pd.Series(LGBF.feature_importances_, X_train.columns.values)\n",
    "feature_importances = feature_importances.sort_values(ascending=False)\n",
    "\n",
    "feature_importances.plot(kind='bar', title='Feature Importances')\n",
    "plt.ylabel('Feature Importance Score')"
   ]
  },
  {
   "cell_type": "code",
   "execution_count": 17,
   "metadata": {},
   "outputs": [],
   "source": [
    "GBSTF = GradientBoostingRegressor(n_estimators=3200, learning_rate=0.05,\n",
    "                                  max_depth=10, max_features='sqrt',\n",
    "                                  min_samples_leaf=15, min_samples_split=10, \n",
    "                                  loss='huber', random_state =5)"
   ]
  },
  {
   "cell_type": "code",
   "execution_count": 18,
   "metadata": {},
   "outputs": [
    {
     "data": {
      "text/plain": [
       "Text(0,0.5,'Feature Importance Score')"
      ]
     },
     "execution_count": 18,
     "metadata": {},
     "output_type": "execute_result"
    },
    {
     "data": {
      "image/png": "[encoded data removed]",
      "text/plain": [
       "<matplotlib.figure.Figure at 0x1a180dff98>"
      ]
     },
     "metadata": {},
     "output_type": "display_data"
    }
   ],
   "source": [
    "GBSTF.fit(X_train, y_train)\n",
    "\n",
    "feature_importances = pd.Series(GBSTF.feature_importances_, X_train.columns.values)\n",
    "feature_importances = feature_importances.sort_values(ascending=False)\n",
    "\n",
    "feature_importances.plot(kind='bar', title='Feature Importances')\n",
    "plt.ylabel('Feature Importance Score')"
   ]
  },
  {
   "cell_type": "code",
   "execution_count": null,
   "metadata": {},
   "outputs": [],
   "source": []
  }
 ],
 "metadata": {
  "kernelspec": {
   "display_name": "Python 3",
   "language": "python",
   "name": "python3"
  },
  "language_info": {
   "codemirror_mode": {
    "name": "ipython",
    "version": 3
   },
   "file_extension": ".py",
   "mimetype": "text/x-python",
   "name": "python",
   "nbconvert_exporter": "python",
   "pygments_lexer": "ipython3",
   "version": "3.6.4"
  },
  "widgets": {
   "application/vnd.jupyter.widget-state+json": {
    "state": {},
    "version_major": 2,
    "version_minor": 0
   }
  }
 },
 "nbformat": 4,
 "nbformat_minor": 2
}
