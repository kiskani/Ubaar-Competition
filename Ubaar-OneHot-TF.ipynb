{
 "cells": [
  {
   "cell_type": "code",
   "execution_count": 1,
   "metadata": {},
   "outputs": [],
   "source": [
    "import warnings \n",
    "warnings.filterwarnings('ignore')\n",
    "import time \n",
    "import pandas as pd \n",
    "import numpy as np \n",
    "from sklearn.model_selection import train_test_split\n",
    "from sklearn import preprocessing\n",
    "from sklearn.ensemble import GradientBoostingRegressor, BaggingRegressor\n",
    "from sklearn.neighbors import KNeighborsClassifier\n",
    "from sklearn.tree import DecisionTreeRegressor\n",
    "import xgboost as xgb\n",
    "import lightgbm as lgb\n",
    "import tensorflow as tf "
   ]
  },
  {
   "cell_type": "code",
   "execution_count": 2,
   "metadata": {},
   "outputs": [],
   "source": [
    "def get_score(model, X, y_true):\n",
    "    y_pred = model.predict(X)\n",
    "    return np.mean(np.abs((y_true - y_pred) / y_true)) * 100\n",
    "\n",
    "def mean_absolute_precision_error(y_pred, y_true):\n",
    "    return np.mean(np.abs((y_true - y_pred) / y_true)) * 100"
   ]
  },
  {
   "cell_type": "markdown",
   "metadata": {},
   "source": [
    "# Loading augmented data"
   ]
  },
  {
   "cell_type": "code",
   "execution_count": 3,
   "metadata": {},
   "outputs": [
    {
     "data": {
      "text/html": [
       "<div>\n",
       "<style scoped>\n",
       "    .dataframe tbody tr th:only-of-type {\n",
       "        vertical-align: middle;\n",
       "    }\n",
       "\n",
       "    .dataframe tbody tr th {\n",
       "        vertical-align: top;\n",
       "    }\n",
       "\n",
       "    .dataframe thead th {\n",
       "        text-align: right;\n",
       "    }\n",
       "</style>\n",
       "<table border=\"1\" class=\"dataframe\">\n",
       "  <thead>\n",
       "    <tr style=\"text-align: right;\">\n",
       "      <th></th>\n",
       "      <th>ID</th>\n",
       "      <th>destinationLatitude</th>\n",
       "      <th>destinationLongitude</th>\n",
       "      <th>distanceKM</th>\n",
       "      <th>price</th>\n",
       "      <th>sourceLatitude</th>\n",
       "      <th>sourceLongitude</th>\n",
       "      <th>taxiDurationMin</th>\n",
       "      <th>weight</th>\n",
       "      <th>source</th>\n",
       "      <th>...</th>\n",
       "      <th>vehicleOption_mosaghaf_chadori</th>\n",
       "      <th>vehicleOption_mosaghaf_felezi</th>\n",
       "      <th>vehicleOption_transit_chadori</th>\n",
       "      <th>vehicleOption_yakhchali</th>\n",
       "      <th>y_gboost</th>\n",
       "      <th>y_xgb</th>\n",
       "      <th>y_bag</th>\n",
       "      <th>y_knn</th>\n",
       "      <th>y_dec</th>\n",
       "      <th>y_lgb</th>\n",
       "    </tr>\n",
       "  </thead>\n",
       "  <tbody>\n",
       "    <tr>\n",
       "      <th>40689</th>\n",
       "      <td>10602550191</td>\n",
       "      <td>34.319566</td>\n",
       "      <td>47.078555</td>\n",
       "      <td>1172.0</td>\n",
       "      <td>19000000.0</td>\n",
       "      <td>27.474105</td>\n",
       "      <td>52.603738</td>\n",
       "      <td>859.0</td>\n",
       "      <td>22.00</td>\n",
       "      <td>1445.240621</td>\n",
       "      <td>...</td>\n",
       "      <td>0</td>\n",
       "      <td>0</td>\n",
       "      <td>0</td>\n",
       "      <td>0</td>\n",
       "      <td>2.001315e+07</td>\n",
       "      <td>20377512.00</td>\n",
       "      <td>20693972.0</td>\n",
       "      <td>4290000.0</td>\n",
       "      <td>1.883525e+07</td>\n",
       "      <td>2.214366e+07</td>\n",
       "    </tr>\n",
       "    <tr>\n",
       "      <th>28663</th>\n",
       "      <td>59022077023</td>\n",
       "      <td>35.699056</td>\n",
       "      <td>51.402792</td>\n",
       "      <td>911.0</td>\n",
       "      <td>8000000.0</td>\n",
       "      <td>29.617603</td>\n",
       "      <td>51.652078</td>\n",
       "      <td>661.0</td>\n",
       "      <td>5.35</td>\n",
       "      <td>1529.810740</td>\n",
       "      <td>...</td>\n",
       "      <td>0</td>\n",
       "      <td>0</td>\n",
       "      <td>0</td>\n",
       "      <td>0</td>\n",
       "      <td>5.602654e+06</td>\n",
       "      <td>7494018.50</td>\n",
       "      <td>4657211.0</td>\n",
       "      <td>6000000.0</td>\n",
       "      <td>4.240625e+06</td>\n",
       "      <td>7.224867e+06</td>\n",
       "    </tr>\n",
       "    <tr>\n",
       "      <th>19042</th>\n",
       "      <td>74752147720</td>\n",
       "      <td>27.182853</td>\n",
       "      <td>56.273862</td>\n",
       "      <td>980.0</td>\n",
       "      <td>10338000.0</td>\n",
       "      <td>32.801625</td>\n",
       "      <td>51.689466</td>\n",
       "      <td>667.0</td>\n",
       "      <td>23.61</td>\n",
       "      <td>1695.498480</td>\n",
       "      <td>...</td>\n",
       "      <td>0</td>\n",
       "      <td>0</td>\n",
       "      <td>0</td>\n",
       "      <td>0</td>\n",
       "      <td>9.197673e+06</td>\n",
       "      <td>9348608.00</td>\n",
       "      <td>9439628.0</td>\n",
       "      <td>8305000.0</td>\n",
       "      <td>9.854376e+06</td>\n",
       "      <td>1.029661e+07</td>\n",
       "    </tr>\n",
       "    <tr>\n",
       "      <th>21837</th>\n",
       "      <td>76223312658</td>\n",
       "      <td>32.673139</td>\n",
       "      <td>51.670482</td>\n",
       "      <td>200.0</td>\n",
       "      <td>2320000.0</td>\n",
       "      <td>34.136752</td>\n",
       "      <td>50.566116</td>\n",
       "      <td>142.0</td>\n",
       "      <td>11.30</td>\n",
       "      <td>1726.162961</td>\n",
       "      <td>...</td>\n",
       "      <td>0</td>\n",
       "      <td>0</td>\n",
       "      <td>0</td>\n",
       "      <td>0</td>\n",
       "      <td>2.536652e+06</td>\n",
       "      <td>2578700.75</td>\n",
       "      <td>2509670.0</td>\n",
       "      <td>2320000.0</td>\n",
       "      <td>2.347938e+06</td>\n",
       "      <td>3.293571e+06</td>\n",
       "    </tr>\n",
       "    <tr>\n",
       "      <th>35006</th>\n",
       "      <td>74609642925</td>\n",
       "      <td>35.699332</td>\n",
       "      <td>51.395552</td>\n",
       "      <td>935.0</td>\n",
       "      <td>18000000.0</td>\n",
       "      <td>30.435378</td>\n",
       "      <td>49.111278</td>\n",
       "      <td>659.0</td>\n",
       "      <td>22.00</td>\n",
       "      <td>1494.720310</td>\n",
       "      <td>...</td>\n",
       "      <td>0</td>\n",
       "      <td>0</td>\n",
       "      <td>0</td>\n",
       "      <td>0</td>\n",
       "      <td>1.737643e+07</td>\n",
       "      <td>17874336.00</td>\n",
       "      <td>17712615.0</td>\n",
       "      <td>16650000.0</td>\n",
       "      <td>1.878682e+07</td>\n",
       "      <td>1.692893e+07</td>\n",
       "    </tr>\n",
       "  </tbody>\n",
       "</table>\n",
       "<p>5 rows × 92 columns</p>\n",
       "</div>"
      ],
      "text/plain": [
       "                ID  destinationLatitude  destinationLongitude  distanceKM  \\\n",
       "40689  10602550191            34.319566             47.078555      1172.0   \n",
       "28663  59022077023            35.699056             51.402792       911.0   \n",
       "19042  74752147720            27.182853             56.273862       980.0   \n",
       "21837  76223312658            32.673139             51.670482       200.0   \n",
       "35006  74609642925            35.699332             51.395552       935.0   \n",
       "\n",
       "            price  sourceLatitude  sourceLongitude  taxiDurationMin  weight  \\\n",
       "40689  19000000.0       27.474105        52.603738            859.0   22.00   \n",
       "28663   8000000.0       29.617603        51.652078            661.0    5.35   \n",
       "19042  10338000.0       32.801625        51.689466            667.0   23.61   \n",
       "21837   2320000.0       34.136752        50.566116            142.0   11.30   \n",
       "35006  18000000.0       30.435378        49.111278            659.0   22.00   \n",
       "\n",
       "            source      ...       vehicleOption_mosaghaf_chadori  \\\n",
       "40689  1445.240621      ...                                    0   \n",
       "28663  1529.810740      ...                                    0   \n",
       "19042  1695.498480      ...                                    0   \n",
       "21837  1726.162961      ...                                    0   \n",
       "35006  1494.720310      ...                                    0   \n",
       "\n",
       "       vehicleOption_mosaghaf_felezi  vehicleOption_transit_chadori  \\\n",
       "40689                              0                              0   \n",
       "28663                              0                              0   \n",
       "19042                              0                              0   \n",
       "21837                              0                              0   \n",
       "35006                              0                              0   \n",
       "\n",
       "       vehicleOption_yakhchali      y_gboost        y_xgb       y_bag  \\\n",
       "40689                        0  2.001315e+07  20377512.00  20693972.0   \n",
       "28663                        0  5.602654e+06   7494018.50   4657211.0   \n",
       "19042                        0  9.197673e+06   9348608.00   9439628.0   \n",
       "21837                        0  2.536652e+06   2578700.75   2509670.0   \n",
       "35006                        0  1.737643e+07  17874336.00  17712615.0   \n",
       "\n",
       "            y_knn         y_dec         y_lgb  \n",
       "40689   4290000.0  1.883525e+07  2.214366e+07  \n",
       "28663   6000000.0  4.240625e+06  7.224867e+06  \n",
       "19042   8305000.0  9.854376e+06  1.029661e+07  \n",
       "21837   2320000.0  2.347938e+06  3.293571e+06  \n",
       "35006  16650000.0  1.878682e+07  1.692893e+07  \n",
       "\n",
       "[5 rows x 92 columns]"
      ]
     },
     "execution_count": 3,
     "metadata": {},
     "output_type": "execute_result"
    }
   ],
   "source": [
    "test  = pd.read_pickle('dataFrames/test_OneHotEncoding.pkl')\n",
    "train = pd.read_pickle('dataFrames/train_OneHotEncoding.pkl')\n",
    "X_train, X_val = train_test_split(train, test_size=0.2, random_state=42)\n",
    "X_train.head()"
   ]
  },
  {
   "cell_type": "markdown",
   "metadata": {},
   "source": [
    "# TensorFlow combination  "
   ]
  },
  {
   "cell_type": "code",
   "execution_count": 4,
   "metadata": {},
   "outputs": [],
   "source": [
    "BATCH_SIZE          = 128\n",
    "TRAIN_EPOCHS        = 1200\n",
    "HIDDEN_LAYER_1_SIZE = 512\n",
    "HIDDEN_LAYER_2_SIZE = 512\n",
    "HIDDEN_LAYER_3_SIZE = 16\n",
    "lr                  = 1e-4"
   ]
  },
  {
   "cell_type": "code",
   "execution_count": 5,
   "metadata": {},
   "outputs": [],
   "source": [
    "y_gboost_feat = tf.feature_column.numeric_column(\"y_gboost\")\n",
    "y_xgb_feat    = tf.feature_column.numeric_column(\"y_xgb\")\n",
    "y_bag_feat    = tf.feature_column.numeric_column(\"y_bag\")\n",
    "y_knn_feat    = tf.feature_column.numeric_column(\"y_knn\")\n",
    "y_dec_feat    = tf.feature_column.numeric_column(\"y_dec\")\n",
    "y_lgb_feat    = tf.feature_column.numeric_column(\"y_lgb\")\n",
    "\n",
    "feature_columns = {y_gboost_feat, y_xgb_feat, y_bag_feat, y_lgb_feat}"
   ]
  },
  {
   "cell_type": "code",
   "execution_count": 6,
   "metadata": {},
   "outputs": [],
   "source": [
    "def make_model(features, labels, mode, params, config):\n",
    "    input_layer = tf.feature_column.input_layer(features=features, feature_columns=feature_columns)\n",
    "    global_step = tf.train.get_or_create_global_step()\n",
    "    x = tf.layers.dense(inputs=input_layer, units=HIDDEN_LAYER_1_SIZE, activation=tf.nn.relu, name=\"first_layer\")\n",
    "    x = tf.layers.dropout(inputs=x,name=\"first_dropout\")\n",
    "    x = tf.layers.dense(inputs=x, units=HIDDEN_LAYER_2_SIZE, activation=tf.nn.relu, name=\"second_layer\")\n",
    "    x = tf.layers.dense(inputs=x, units=HIDDEN_LAYER_3_SIZE, activation=tf.nn.relu, name=\"third_layer\")\n",
    "    predictions = tf.contrib.layers.fully_connected(inputs=x, num_outputs=1)\n",
    "    if mode == tf.estimator.ModeKeys.PREDICT :\n",
    "        return tf.estimator.EstimatorSpec(mode=mode, predictions=predictions)\n",
    "    elif mode == tf.estimator.ModeKeys.EVAL:\n",
    "        loss  = tf.reduce_mean(tf.abs(tf.divide(predictions-labels,labels))) \n",
    "        return tf.estimator.EstimatorSpec(mode=mode, predictions=predictions, loss=loss)\n",
    "    else:\n",
    "        loss  = tf.reduce_mean(tf.abs(tf.divide(predictions-labels,labels))) \n",
    "        tf.summary.scalar(\"Loss\", loss)\n",
    "        optimizer = tf.train.AdamOptimizer(learning_rate=params.learning_rate)\n",
    "        train_op = optimizer.minimize(loss, global_step=global_step)\n",
    "        return tf.estimator.EstimatorSpec(mode=mode, predictions=predictions, loss=loss, train_op=train_op)"
   ]
  },
  {
   "cell_type": "code",
   "execution_count": 7,
   "metadata": {},
   "outputs": [],
   "source": [
    "def input_fn(df, pred = False):\n",
    "    useful_fueatures = [np.array(df[\"y_gboost\"].values, dtype=np.float32),\n",
    "                        np.array(df[\"y_xgb\"].values, dtype=np.float32),\n",
    "                        np.array(df[\"y_bag\"].values, dtype=np.float32),\n",
    "                        np.array(df[\"y_lgb\"].values, dtype=np.float32),\n",
    "                        np.array(df[\"y_knn\"].values, dtype=np.float32),\n",
    "                        np.array(df[\"y_dec\"].values, dtype=np.float32)]\n",
    "    if pred: \n",
    "        train_number = 1\n",
    "        batch_number = 1\n",
    "    else:\n",
    "        useful_fueatures.append(np.array(df[\"price\"].values, dtype=np.float32))\n",
    "        train_number = TRAIN_EPOCHS\n",
    "        batch_number = BATCH_SIZE\n",
    "        \n",
    "    A = tf.train.slice_input_producer(tensor_list=useful_fueatures, num_epochs=train_number, \n",
    "                                      shuffle= not pred,capacity=BATCH_SIZE * 5)\n",
    "    \n",
    "    y_gboost              = A[0]\n",
    "    y_xgb                 = A[1]\n",
    "    y_bag                 = A[2]\n",
    "    y_lgb                 = A[3]\n",
    "    y_knn                 = A[4]\n",
    "    y_dec                 = A[5]\n",
    "    \n",
    "    dataset_dict = dict(\n",
    "        y_gboost=y_gboost,\n",
    "        y_xgb=y_xgb,\n",
    "        y_bag=y_bag,\n",
    "        y_lgb=y_lgb,\n",
    "        y_knn=y_knn,\n",
    "        y_dec=y_dec,\n",
    "    )\n",
    "\n",
    "    if not pred:\n",
    "        dataset_dict['labels'] = A[6]\n",
    "            \n",
    "    batch_dict = tf.train.batch(\n",
    "        dataset_dict,\n",
    "        batch_number,\n",
    "   )\n",
    "\n",
    "    if pred == False:\n",
    "        batch_labels = batch_dict.pop('labels')\n",
    "        return batch_dict, tf.reshape(batch_labels, [-1, 1]) \n",
    "    else:\n",
    "        return batch_dict "
   ]
  },
  {
   "cell_type": "code",
   "execution_count": 8,
   "metadata": {},
   "outputs": [
    {
     "name": "stdout",
     "output_type": "stream",
     "text": [
      "INFO:tensorflow:Using default config.\n",
      "WARNING:tensorflow:Using temporary folder as model directory: /var/folders/hy/j_c72d1x72g_rr58tgrlh3b40000gn/T/tmpq3x9563v\n",
      "INFO:tensorflow:Using config: {'_model_dir': '/var/folders/hy/j_c72d1x72g_rr58tgrlh3b40000gn/T/tmpq3x9563v', '_tf_random_seed': None, '_save_summary_steps': 100, '_save_checkpoints_steps': None, '_save_checkpoints_secs': 600, '_session_config': None, '_keep_checkpoint_max': 5, '_keep_checkpoint_every_n_hours': 10000, '_log_step_count_steps': 100, '_train_distribute': None, '_service': None, '_cluster_spec': <tensorflow.python.training.server_lib.ClusterSpec object at 0x1c2ac6f710>, '_task_type': 'worker', '_task_id': 0, '_global_id_in_cluster': 0, '_master': '', '_evaluation_master': '', '_is_chief': True, '_num_ps_replicas': 0, '_num_worker_replicas': 1}\n",
      "INFO:tensorflow:Calling model_fn.\n",
      "INFO:tensorflow:Done calling model_fn.\n",
      "INFO:tensorflow:Create CheckpointSaverHook.\n",
      "INFO:tensorflow:Graph was finalized.\n",
      "INFO:tensorflow:Running local_init_op.\n",
      "INFO:tensorflow:Done running local_init_op.\n",
      "INFO:tensorflow:Saving checkpoints for 1 into /var/folders/hy/j_c72d1x72g_rr58tgrlh3b40000gn/T/tmpq3x9563v/model.ckpt.\n",
      "INFO:tensorflow:loss = 1.0, step = 1\n",
      "INFO:tensorflow:global_step/sec: 68.9805\n",
      "INFO:tensorflow:loss = 1.0, step = 101 (1.450 sec)\n",
      "INFO:tensorflow:global_step/sec: 71.0604\n",
      "INFO:tensorflow:loss = 1.0, step = 201 (1.407 sec)\n",
      "INFO:tensorflow:global_step/sec: 70.365\n",
      "INFO:tensorflow:loss = 1.0, step = 301 (1.421 sec)\n",
      "INFO:tensorflow:global_step/sec: 62.4747\n",
      "INFO:tensorflow:loss = 1.0, step = 401 (1.601 sec)\n",
      "INFO:tensorflow:global_step/sec: 70.7293\n",
      "INFO:tensorflow:loss = 1.0, step = 501 (1.414 sec)\n",
      "INFO:tensorflow:global_step/sec: 70.0784\n",
      "INFO:tensorflow:loss = 1.0, step = 601 (1.427 sec)\n",
      "INFO:tensorflow:global_step/sec: 68.7451\n",
      "INFO:tensorflow:loss = 1.0, step = 701 (1.455 sec)\n",
      "INFO:tensorflow:global_step/sec: 65.9762\n",
      "INFO:tensorflow:loss = 1.0, step = 801 (1.516 sec)\n",
      "INFO:tensorflow:global_step/sec: 66.1516\n",
      "INFO:tensorflow:loss = 1.0, step = 901 (1.512 sec)\n",
      "INFO:tensorflow:global_step/sec: 72.6295\n",
      "INFO:tensorflow:loss = 1.0, step = 1001 (1.377 sec)\n",
      "INFO:tensorflow:global_step/sec: 69.6283\n",
      "INFO:tensorflow:loss = 1.0, step = 1101 (1.436 sec)\n",
      "INFO:tensorflow:Saving checkpoints for 1200 into /var/folders/hy/j_c72d1x72g_rr58tgrlh3b40000gn/T/tmpq3x9563v/model.ckpt.\n",
      "INFO:tensorflow:Loss for final step: 1.0.\n"
     ]
    },
    {
     "data": {
      "text/plain": [
       "<tensorflow.python.estimator.estimator.Estimator at 0x1c2ac03e80>"
      ]
     },
     "execution_count": 8,
     "metadata": {},
     "output_type": "execute_result"
    }
   ],
   "source": [
    "hparams = tf.contrib.training.HParams(learning_rate=lr)\n",
    "estimator_val = tf.estimator.Estimator(model_fn=make_model, params=hparams)\n",
    "estimator_val.train(input_fn=lambda: input_fn(X_train), steps=TRAIN_EPOCHS)"
   ]
  },
  {
   "cell_type": "code",
   "execution_count": 9,
   "metadata": {},
   "outputs": [
    {
     "name": "stdout",
     "output_type": "stream",
     "text": [
      "INFO:tensorflow:Calling model_fn.\n",
      "INFO:tensorflow:Done calling model_fn.\n",
      "INFO:tensorflow:Graph was finalized.\n",
      "INFO:tensorflow:Restoring parameters from /var/folders/hy/j_c72d1x72g_rr58tgrlh3b40000gn/T/tmpq3x9563v/model.ckpt-1200\n",
      "INFO:tensorflow:Running local_init_op.\n",
      "INFO:tensorflow:Done running local_init_op.\n"
     ]
    },
    {
     "data": {
      "text/plain": [
       "100.0"
      ]
     },
     "execution_count": 9,
     "metadata": {},
     "output_type": "execute_result"
    }
   ],
   "source": [
    "predictions_val   = list(estimator_val.predict(input_fn = lambda: input_fn(X_val, pred=True)))\n",
    "y_preds_val       = [int(x) for x in predictions_val]\n",
    "mean_absolute_precision_error(y_preds_val, X_val.price)"
   ]
  },
  {
   "cell_type": "code",
   "execution_count": 10,
   "metadata": {},
   "outputs": [
    {
     "name": "stdout",
     "output_type": "stream",
     "text": [
      "INFO:tensorflow:Using default config.\n",
      "WARNING:tensorflow:Using temporary folder as model directory: /var/folders/hy/j_c72d1x72g_rr58tgrlh3b40000gn/T/tmpxjex5670\n",
      "INFO:tensorflow:Using config: {'_model_dir': '/var/folders/hy/j_c72d1x72g_rr58tgrlh3b40000gn/T/tmpxjex5670', '_tf_random_seed': None, '_save_summary_steps': 100, '_save_checkpoints_steps': None, '_save_checkpoints_secs': 600, '_session_config': None, '_keep_checkpoint_max': 5, '_keep_checkpoint_every_n_hours': 10000, '_log_step_count_steps': 100, '_train_distribute': None, '_service': None, '_cluster_spec': <tensorflow.python.training.server_lib.ClusterSpec object at 0x1a22026cc0>, '_task_type': 'worker', '_task_id': 0, '_global_id_in_cluster': 0, '_master': '', '_evaluation_master': '', '_is_chief': True, '_num_ps_replicas': 0, '_num_worker_replicas': 1}\n",
      "INFO:tensorflow:Calling model_fn.\n",
      "INFO:tensorflow:Done calling model_fn.\n",
      "INFO:tensorflow:Create CheckpointSaverHook.\n",
      "INFO:tensorflow:Graph was finalized.\n",
      "INFO:tensorflow:Running local_init_op.\n",
      "INFO:tensorflow:Done running local_init_op.\n",
      "INFO:tensorflow:Saving checkpoints for 1 into /var/folders/hy/j_c72d1x72g_rr58tgrlh3b40000gn/T/tmpxjex5670/model.ckpt.\n",
      "INFO:tensorflow:loss = 0.9339743, step = 1\n",
      "INFO:tensorflow:global_step/sec: 71.8723\n",
      "INFO:tensorflow:loss = 0.16264024, step = 101 (1.392 sec)\n",
      "INFO:tensorflow:global_step/sec: 75.7981\n",
      "INFO:tensorflow:loss = 0.16622272, step = 201 (1.319 sec)\n",
      "INFO:tensorflow:global_step/sec: 75.0514\n",
      "INFO:tensorflow:loss = 0.16579132, step = 301 (1.333 sec)\n",
      "INFO:tensorflow:global_step/sec: 75.0623\n",
      "INFO:tensorflow:loss = 0.18593712, step = 401 (1.332 sec)\n",
      "INFO:tensorflow:global_step/sec: 75.4969\n",
      "INFO:tensorflow:loss = 0.16479766, step = 501 (1.325 sec)\n",
      "INFO:tensorflow:global_step/sec: 74.7247\n",
      "INFO:tensorflow:loss = 0.17207164, step = 601 (1.338 sec)\n",
      "INFO:tensorflow:global_step/sec: 66.3771\n",
      "INFO:tensorflow:loss = 0.20843431, step = 701 (1.507 sec)\n",
      "INFO:tensorflow:global_step/sec: 68.3833\n",
      "INFO:tensorflow:loss = 0.16603585, step = 801 (1.462 sec)\n",
      "INFO:tensorflow:global_step/sec: 72.9887\n",
      "INFO:tensorflow:loss = 0.166486, step = 901 (1.370 sec)\n",
      "INFO:tensorflow:global_step/sec: 73.6156\n",
      "INFO:tensorflow:loss = 0.13878652, step = 1001 (1.358 sec)\n",
      "INFO:tensorflow:global_step/sec: 74.003\n",
      "INFO:tensorflow:loss = 0.18962872, step = 1101 (1.351 sec)\n",
      "INFO:tensorflow:Saving checkpoints for 1200 into /var/folders/hy/j_c72d1x72g_rr58tgrlh3b40000gn/T/tmpxjex5670/model.ckpt.\n",
      "INFO:tensorflow:Loss for final step: 0.14726579.\n"
     ]
    },
    {
     "data": {
      "text/plain": [
       "<tensorflow.python.estimator.estimator.Estimator at 0x1a22026c88>"
      ]
     },
     "execution_count": 10,
     "metadata": {},
     "output_type": "execute_result"
    }
   ],
   "source": [
    "estimator = tf.estimator.Estimator(model_fn=make_model, params=hparams)\n",
    "estimator.train(input_fn=lambda: input_fn(train), steps=TRAIN_EPOCHS)"
   ]
  },
  {
   "cell_type": "code",
   "execution_count": 11,
   "metadata": {},
   "outputs": [
    {
     "name": "stdout",
     "output_type": "stream",
     "text": [
      "INFO:tensorflow:Calling model_fn.\n",
      "INFO:tensorflow:Done calling model_fn.\n",
      "INFO:tensorflow:Graph was finalized.\n",
      "INFO:tensorflow:Restoring parameters from /var/folders/hy/j_c72d1x72g_rr58tgrlh3b40000gn/T/tmpxjex5670/model.ckpt-1200\n",
      "INFO:tensorflow:Running local_init_op.\n",
      "INFO:tensorflow:Done running local_init_op.\n"
     ]
    }
   ],
   "source": [
    "predictions   = list(estimator.predict(input_fn = lambda: input_fn(test, pred=True)))\n",
    "y_preds_test   = [int(x) for x in predictions]"
   ]
  },
  {
   "cell_type": "markdown",
   "metadata": {},
   "source": [
    "# Save to File"
   ]
  },
  {
   "cell_type": "code",
   "execution_count": 15,
   "metadata": {},
   "outputs": [],
   "source": [
    "#filename = \"/Users/mohsenkiskani/Downloads/Ubaar/submissions/submission36.csv\"\n",
    "#with open(filename,\"w+\") as outputfile:\n",
    "#    outputfile.write(\"ID,price\\n\")\n",
    "#    for i in range(len(y_preds_test)):\n",
    "#        outputfile.write(str(test.ID[i])+\",\"+str(int(np.ceil(y_preds_test[i])))+\"\\n\")"
   ]
  },
  {
   "cell_type": "markdown",
   "metadata": {},
   "source": [
    "##### Submission 19 with loss of 15.9 "
   ]
  },
  {
   "cell_type": "code",
   "execution_count": 13,
   "metadata": {},
   "outputs": [],
   "source": [
    "#source_lat_feat         = tf.feature_column.numeric_column(\"sourceLatitude\") \n",
    "#source_long_feat        = tf.feature_column.numeric_column(\"sourceLongitude\") \n",
    "#destin_lat_feat         = tf.feature_column.numeric_column(\"destinationLatitude\") \n",
    "#destin_long_feat        = tf.feature_column.numeric_column(\"destinationLongitude\") \n",
    "\n",
    "#distance_feat = tf.feature_column.numeric_column(\"distanceKM\")\n",
    "#taximin_feat  = tf.feature_column.numeric_column(\"taxiDurationMin\")\n",
    "#weight_feat   = tf.feature_column.numeric_column(\"weight\")\n",
    "\n",
    "#source_feat   = tf.feature_column.numeric_column(\"source\")\n",
    "#destin_feat   = tf.feature_column.numeric_column(\"destination\")\n",
    "\n",
    "#feature_columns = {y_gboost_feat, y_xgb_feat, y_bag_feat, y_lgb_feat, y_knn_feat, y_dec_feat,\n",
    "#                   source_lat_feat, source_long_feat , destin_lat_feat, destin_long_feat, \n",
    "#                   distance_feat, taximin_feat, weight_feat, source_feat, destin_feat}\n",
    "\n",
    "#feature_columns = {y_gboost_feat, y_xgb_feat, y_bag_feat, y_lgb_feat, y_knn_feat, y_dec_feat}"
   ]
  },
  {
   "cell_type": "code",
   "execution_count": 14,
   "metadata": {},
   "outputs": [],
   "source": [
    "#        np.array(df[\"sourceLatitude\"].values, dtype=np.float32),\n",
    "#        np.array(df[\"sourceLongitude\"].values, dtype=np.float32),\n",
    "#        np.array(df[\"destinationLatitude\"].values, dtype=np.float32),\n",
    "#        np.array(df[\"destinationLongitude\"].values, dtype=np.float32),\n",
    "#        np.array(df[\"distanceKM\"].values, dtype=np.float32),\n",
    "#        np.array(df[\"taxiDurationMin\"].values, dtype=np.float32),\n",
    "#        np.array(df[\"weight\"].values, dtype=np.float32),\n",
    "#        np.array(df[\"source\"].values, dtype=np.float32),\n",
    "#        np.array(df[\"destination\"].values, dtype=np.float32),\n",
    "\n",
    "#    sourceLatitude        = A[6]\n",
    "#    sourceLongitude       = A[7]\n",
    "#    destinationLatitude   = A[8]\n",
    "#    destinationLongitude  = A[9]\n",
    "#    distanceKM            = A[10]\n",
    "#    taxiDurationMin       = A[11] \n",
    "#    weight                = A[12]\n",
    "#    source                = A[13]\n",
    "#    destination           = A[14] \n",
    "\n",
    "#        sourceLatitude=sourceLatitude,\n",
    "#        sourceLongitude=sourceLongitude,\n",
    "#        destinationLatitude=destinationLatitude,\n",
    "#        destinationLongitude=destinationLongitude, \n",
    "#        distanceKM=distanceKM,\n",
    "#        taxiDurationMin=taxiDurationMin,\n",
    "#        weight=weight,\n",
    "#        source=source, \n",
    "#        destination=destination"
   ]
  },
  {
   "cell_type": "code",
   "execution_count": null,
   "metadata": {},
   "outputs": [],
   "source": []
  },
  {
   "cell_type": "code",
   "execution_count": 16,
   "metadata": {},
   "outputs": [],
   "source": []
  },
  {
   "cell_type": "code",
   "execution_count": null,
   "metadata": {},
   "outputs": [],
   "source": []
  },
  {
   "cell_type": "code",
   "execution_count": null,
   "metadata": {},
   "outputs": [],
   "source": []
  }
 ],
 "metadata": {
  "kernelspec": {
   "display_name": "Python 3",
   "language": "python",
   "name": "python3"
  },
  "language_info": {
   "codemirror_mode": {
    "name": "ipython",
    "version": 3
   },
   "file_extension": ".py",
   "mimetype": "text/x-python",
   "name": "python",
   "nbconvert_exporter": "python",
   "pygments_lexer": "ipython3",
   "version": "3.6.4"
  }
 },
 "nbformat": 4,
 "nbformat_minor": 2
}
